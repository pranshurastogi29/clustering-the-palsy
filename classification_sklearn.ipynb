{
  "nbformat": 4,
  "nbformat_minor": 0,
  "metadata": {
    "kernelspec": {
      "display_name": "Python 3",
      "language": "python",
      "name": "python3"
    },
    "language_info": {
      "codemirror_mode": {
        "name": "ipython",
        "version": 3
      },
      "file_extension": ".py",
      "mimetype": "text/x-python",
      "name": "python",
      "nbconvert_exporter": "python",
      "pygments_lexer": "ipython3",
      "version": "3.6.6"
    },
    "colab": {
      "name": "classification_sklearn.ipynb",
      "provenance": [],
      "include_colab_link": true
    }
  },
  "cells": [
    {
      "cell_type": "markdown",
      "metadata": {
        "id": "view-in-github",
        "colab_type": "text"
      },
      "source": [
        "<a href=\"https://colab.research.google.com/github/pranshurastogi29/giat_profiling-for-cerebral-palsy/blob/master/classification_sklearn.ipynb\" target=\"_parent\"><img src=\"https://colab.research.google.com/assets/colab-badge.svg\" alt=\"Open In Colab\"/></a>"
      ]
    },
    {
      "cell_type": "code",
      "metadata": {
        "id": "VpCLsW-uT1IP",
        "colab_type": "code",
        "colab": {}
      },
      "source": [
        "import pandas as pd\n",
        "import random\n",
        "from sklearn.metrics import silhouette_samples, silhouette_score\n",
        "from scipy.stats import multivariate_normal\n",
        "import matplotlib.pyplot as plt\n",
        "from sklearn.metrics.pairwise import euclidean_distances\n",
        "from sklearn import metrics\n",
        "import numpy as np\n",
        "\n",
        "def purity_score(y_true, y_pred):\n",
        "    # compute contingency matrix (also called confusion matrix)\n",
        "    contingency_matrix = metrics.cluster.contingency_matrix(y_true, y_pred)\n",
        "    # return purity\n",
        "    return np.sum(np.amax(contingency_matrix, axis=0)) / np.sum(contingency_matrix) \n",
        "\n",
        "def delta(ck, cl):\n",
        "    values = np.ones([len(ck), len(cl)])*10000\n",
        "    \n",
        "    for i in range(0, len(ck)):\n",
        "        for j in range(0, len(cl)):\n",
        "            values[i, j] = np.linalg.norm(ck[i]-cl[j])\n",
        "            \n",
        "    return np.min(values)\n",
        "    \n",
        "def big_delta(ci):\n",
        "    values = np.zeros([len(ci), len(ci)])\n",
        "    \n",
        "    for i in range(0, len(ci)):\n",
        "        for j in range(0, len(ci)):\n",
        "            values[i, j] = np.linalg.norm(ci[i]-ci[j])\n",
        "            \n",
        "    return np.max(values)\n",
        "    \n",
        "def dunn(k_list):\n",
        "    \n",
        "    deltas = np.ones([len(k_list), len(k_list)])*1000000\n",
        "    big_deltas = np.zeros([len(k_list), 1])\n",
        "    l_range = list(range(0, len(k_list)))\n",
        "    \n",
        "    for k in l_range:\n",
        "        for l in (l_range[0:k]+l_range[k+1:]):\n",
        "            deltas[k, l] = delta(k_list[k], k_list[l])\n",
        "        \n",
        "        big_deltas[k] = big_delta(k_list[k])\n",
        "\n",
        "    di = np.min(deltas)/np.max(big_deltas)\n",
        "    return di"
      ],
      "execution_count": 0,
      "outputs": []
    },
    {
      "cell_type": "code",
      "metadata": {
        "id": "jJuTIxs-T1Ia",
        "colab_type": "code",
        "colab": {}
      },
      "source": [
        "df=pd.read_csv('/content/drive/My Drive/norm.csv')\n",
        "df = df[['Stride Length (m)', 'Cadence(steps/min)', 'Leg Length (m)',\n",
        "       'Age(years)','classs']]\n",
        "X = df[['Stride Length (m)', 'Cadence(steps/min)', 'Leg Length (m)',\n",
        "       'Age(years)']].values\n",
        "y = df.classs.values"
      ],
      "execution_count": 0,
      "outputs": []
    },
    {
      "cell_type": "code",
      "metadata": {
        "id": "G0hfIioOT1Ij",
        "colab_type": "code",
        "colab": {}
      },
      "source": [
        "from sklearn.decomposition import PCA\n",
        "from sklearn.preprocessing import PolynomialFeatures\n",
        "pca = PCA(n_components=2)\n",
        "principalComponents = pca.fit_transform(X)\n",
        "principalDf = pd.DataFrame(data = principalComponents\n",
        "             , columns = ['principal component 1', 'principal component 2'])"
      ],
      "execution_count": 0,
      "outputs": []
    },
    {
      "cell_type": "code",
      "metadata": {
        "id": "KRrO3ynXT1It",
        "colab_type": "code",
        "colab": {}
      },
      "source": [
        "df = pd.concat([principalDf, df[['classs']]], axis = 1)"
      ],
      "execution_count": 0,
      "outputs": []
    },
    {
      "cell_type": "code",
      "metadata": {
        "id": "EgdcoDRuT1I5",
        "colab_type": "code",
        "colab": {
          "base_uri": "https://localhost:8080/",
          "height": 523
        },
        "outputId": "a46b9bff-2eab-4490-d2f3-338e4370c0f0"
      },
      "source": [
        "fig = plt.figure(figsize = (8,8))\n",
        "ax = fig.add_subplot(1,1,1) \n",
        "ax.set_xlabel('Principal Component 1', fontsize = 15)\n",
        "ax.set_ylabel('Principal Component 2', fontsize = 15)\n",
        "ax.set_title('2 component PCA', fontsize = 20)\n",
        "targets = [0,1]\n",
        "colors = ['r', 'g']\n",
        "for target, color in zip(targets,colors):\n",
        "    indicesToKeep = df['classs'] == target\n",
        "    ax.scatter(df.loc[indicesToKeep, 'principal component 1']\n",
        "               , df.loc[indicesToKeep, 'principal component 2']\n",
        "               , c = color\n",
        "               , s = 50)\n",
        "ax.legend(targets)\n",
        "ax.grid()"
      ],
      "execution_count": 5,
      "outputs": [
        {
          "output_type": "display_data",
          "data": {
            "image/png": "[encoded data removed]",
            "text/plain": [
              "<Figure size 576x576 with 1 Axes>"
            ]
          },
          "metadata": {
            "tags": []
          }
        }
      ]
    },
    {
      "cell_type": "code",
      "metadata": {
        "id": "ckrFBSM3ep35",
        "colab_type": "code",
        "colab": {}
      },
      "source": [
        "from sklearn.model_selection import train_test_split\n",
        "poly = PolynomialFeatures(2)\n",
        "X1 = poly.fit_transform(X)\n",
        "x_tr,x_tt,y_tr,y_tt = train_test_split(X,y,test_size=.20,random_state=42)\n",
        "x_tr1,x_tt1,y_tr1,y_tt1 = train_test_split(X1,y,test_size=.20,random_state=42)"
      ],
      "execution_count": 0,
      "outputs": []
    },
    {
      "cell_type": "code",
      "metadata": {
        "id": "DdQMZTM_iHTY",
        "colab_type": "code",
        "colab": {
          "base_uri": "https://localhost:8080/",
          "height": 35
        },
        "outputId": "a62bcc81-e3ab-40f6-d740-8b2c9137b79a"
      },
      "source": [
        "X1.shape"
      ],
      "execution_count": 8,
      "outputs": [
        {
          "output_type": "execute_result",
          "data": {
            "text/plain": [
              "(156, 15)"
            ]
          },
          "metadata": {
            "tags": []
          },
          "execution_count": 8
        }
      ]
    },
    {
      "cell_type": "code",
      "metadata": {
        "id": "VOChbjJ1WCie",
        "colab_type": "code",
        "colab": {
          "base_uri": "https://localhost:8080/",
          "height": 1000
        },
        "outputId": "a146b224-1e71-471f-f9f5-84bd93bff013"
      },
      "source": [
        "from sklearn.linear_model import *\n",
        "from sklearn.svm import SVC\n",
        "from sklearn.metrics import f1_score\n",
        "reg = Ridge(alpha=.5).fit(x_tr, y_tr)\n",
        "print(reg)\n",
        "print(1,reg.score(x_tt, y_tt))\n",
        "a = reg.predict(x_tt)\n",
        "a1 = np.around(a)\n",
        "print('f1_score : %0.3f' % f1_score(y_tt,a1))\n",
        "print(\"purity : %0.3f\" % purity_score(y_tt,a))\n",
        "print(\"Silhouette Coefficient : %0.3f\"\n",
        "      % silhouette_score(a.reshape(-1,1),y_tt, metric='euclidean'))\n",
        "print('<------------------*******************----------------->')\n",
        "reg = LinearRegression().fit(x_tr, y_tr)\n",
        "print(reg)\n",
        "print(2,reg.score(x_tt, y_tt))\n",
        "a = reg.predict(x_tt)\n",
        "a1 = np.around(a)\n",
        "print('f1_score : %0.3f' % f1_score(y_tt,a1))\n",
        "print(\"purity : %0.3f\" % purity_score(y_tt,a))\n",
        "print(\"Silhouette Coefficient : %0.3f\"\n",
        "      % silhouette_score(a.reshape(-1,1),y_tt, metric='euclidean'))\n",
        "print('<------------------*******************----------------->')\n",
        "reg = BayesianRidge().fit(x_tr, y_tr)\n",
        "print(reg)\n",
        "print(3,reg.score(x_tt, y_tt))\n",
        "a = reg.predict(x_tt)\n",
        "a1 = np.around(a)\n",
        "print('f1_score : %0.3f' % f1_score(y_tt,a1))\n",
        "print(\"purity : %0.3f\" % purity_score(y_tt,a))\n",
        "print(\"Silhouette Coefficient : %0.3f\"\n",
        "      % silhouette_score(a.reshape(-1,1),y_tt, metric='euclidean'))\n",
        "print('<------------------*******************----------------->')\n",
        "reg = LogisticRegression(random_state=42).fit(x_tr, y_tr)\n",
        "print(reg)\n",
        "print(4,reg.score(x_tt, y_tt))\n",
        "a = reg.predict(x_tt)\n",
        "a1 = np.around(a)\n",
        "print('f1_score : %0.3f' % f1_score(y_tt,a1))\n",
        "print(\"purity : %0.3f\" % purity_score(y_tt,a))\n",
        "print(\"Silhouette Coefficient : %0.3f\"\n",
        "      % silhouette_score(a.reshape(-1,1),y_tt, metric='euclidean'))\n",
        "print('<------------------*******************----------------->')\n",
        "clf = SVC(gamma='auto')\n",
        "clf.fit(x_tr, y_tr)\n",
        "print(clf)\n",
        "print(5,clf.score(x_tt,y_tt))\n",
        "a = clf.predict(x_tt)\n",
        "a1 = np.around(a)\n",
        "print('f1_score : %0.3f' % f1_score(y_tt,a1))\n",
        "print(\"purity : %0.3f\" % purity_score(y_tt,a))\n",
        "print(\"Silhouette Coefficient : %0.3f\"\n",
        "      % silhouette_score(a.reshape(-1,1),y_tt, metric='euclidean'))\n",
        "print('<------------------*******************----------------->')\n",
        "reg = Ridge(alpha=.5).fit(x_tr1, y_tr1)\n",
        "print(reg)\n",
        "print(6,reg.score(x_tt1, y_tt1))\n",
        "a = reg.predict(x_tt1)\n",
        "a1 = np.around(a)\n",
        "print('f1_score : %0.3f' % f1_score(y_tt1,a1))\n",
        "print(\"purity : %0.3f\" % purity_score(y_tt1,a))\n",
        "print(\"Silhouette Coefficient : %0.3f\"\n",
        "      % silhouette_score(a.reshape(-1,1),y_tt1, metric='euclidean'))\n",
        "print('<------------------*******************----------------->')\n",
        "reg = LinearRegression().fit(x_tr1, y_tr1)\n",
        "print(reg)\n",
        "print(7,reg.score(x_tt1, y_tt1))\n",
        "a = reg.predict(x_tt1)\n",
        "a1 = np.around(a)\n",
        "print('f1_score : %0.3f' % f1_score(y_tt1,a1))\n",
        "print(\"purity : %0.3f\" % purity_score(y_tt1,a))\n",
        "print(\"Silhouette Coefficient : %0.3f\"\n",
        "      % silhouette_score(a.reshape(-1,1),y_tt1, metric='euclidean'))\n",
        "print('<------------------*******************----------------->')\n",
        "reg = BayesianRidge().fit(x_tr1, y_tr1)\n",
        "print(reg)\n",
        "print(8,reg.score(x_tt1, y_tt1))\n",
        "a = reg.predict(x_tt1)\n",
        "a1 = np.around(a)\n",
        "print('f1_score : %0.3f' % f1_score(y_tt1,a1))\n",
        "print(\"purity : %0.3f\" % purity_score(y_tt1,a))\n",
        "print(\"Silhouette Coefficient : %0.3f\"\n",
        "      % silhouette_score(a.reshape(-1,1),y_tt1, metric='euclidean'))\n",
        "print('<------------------*******************----------------->')\n",
        "reg = LogisticRegression(random_state=42).fit(x_tr1, y_tr1)\n",
        "print(reg)\n",
        "print(9,reg.score(x_tt1, y_tt1))\n",
        "a = reg.predict(x_tt1)\n",
        "a1 = np.around(a)\n",
        "print('f1_score : %0.3f' % f1_score(y_tt1,a1))\n",
        "print(\"purity : %0.3f\" % purity_score(y_tt1,a))\n",
        "print(\"Silhouette Coefficient : %0.3f\"\n",
        "      % silhouette_score(a.reshape(-1,1),y_tt1, metric='euclidean'))\n",
        "print('<------------------*******************----------------->')\n",
        "clf = SVC(gamma='auto')\n",
        "clf.fit(x_tr1, y_tr1)\n",
        "print(clf)\n",
        "print(10,clf.score(x_tt1, y_tt1))\n",
        "a = clf.predict(x_tt1)\n",
        "a1 = np.around(a)\n",
        "print('f1_score : %0.3f' % f1_score(y_tt1,a1))\n",
        "print(\"purity : %0.3f\" % purity_score(y_tt1,a))\n",
        "print(\"Silhouette Coefficient : %0.3f\"\n",
        "      % silhouette_score(a.reshape(-1,1),y_tt1, metric='euclidean'))"
      ],
      "execution_count": 7,
      "outputs": [
        {
          "output_type": "stream",
          "text": [
            "Ridge(alpha=0.5, copy_X=True, fit_intercept=True, max_iter=None,\n",
            "      normalize=False, random_state=None, solver='auto', tol=0.001)\n",
            "1 0.7118634244115905\n",
            "f1_score : 0.938\n",
            "purity : 1.000\n",
            "Silhouette Coefficient : 0.585\n",
            "<------------------*******************----------------->\n",
            "LinearRegression(copy_X=True, fit_intercept=True, n_jobs=None, normalize=False)\n",
            "2 0.7477087352654623\n",
            "f1_score : 0.968\n",
            "purity : 1.000\n",
            "Silhouette Coefficient : 0.625\n",
            "<------------------*******************----------------->\n",
            "BayesianRidge(alpha_1=1e-06, alpha_2=1e-06, alpha_init=None,\n",
            "              compute_score=False, copy_X=True, fit_intercept=True,\n",
            "              lambda_1=1e-06, lambda_2=1e-06, lambda_init=None, n_iter=300,\n",
            "              normalize=False, tol=0.001, verbose=False)\n",
            "3 0.7417223549144557\n",
            "f1_score : 0.968\n",
            "purity : 1.000\n",
            "Silhouette Coefficient : 0.618\n",
            "<------------------*******************----------------->\n",
            "LogisticRegression(C=1.0, class_weight=None, dual=False, fit_intercept=True,\n",
            "                   intercept_scaling=1, l1_ratio=None, max_iter=100,\n",
            "                   multi_class='auto', n_jobs=None, penalty='l2',\n",
            "                   random_state=42, solver='lbfgs', tol=0.0001, verbose=0,\n",
            "                   warm_start=False)\n",
            "4 0.9375\n",
            "f1_score : 0.938\n",
            "purity : 0.938\n",
            "Silhouette Coefficient : 0.816\n",
            "<------------------*******************----------------->\n",
            "SVC(C=1.0, break_ties=False, cache_size=200, class_weight=None, coef0=0.0,\n",
            "    decision_function_shape='ovr', degree=3, gamma='auto', kernel='rbf',\n",
            "    max_iter=-1, probability=False, random_state=None, shrinking=True,\n",
            "    tol=0.001, verbose=False)\n",
            "5 0.8125\n",
            "f1_score : 0.750\n",
            "purity : 0.812\n",
            "Silhouette Coefficient : 0.504\n",
            "<------------------*******************----------------->\n",
            "Ridge(alpha=0.5, copy_X=True, fit_intercept=True, max_iter=None,\n",
            "      normalize=False, random_state=None, solver='auto', tol=0.001)\n",
            "6 0.7896631748836351\n",
            "f1_score : 1.000\n",
            "purity : 1.000\n",
            "Silhouette Coefficient : 0.655\n",
            "<------------------*******************----------------->\n",
            "LinearRegression(copy_X=True, fit_intercept=True, n_jobs=None, normalize=False)\n",
            "7 0.7949028055356042\n",
            "f1_score : 1.000\n",
            "purity : 1.000\n",
            "Silhouette Coefficient : 0.662\n",
            "<------------------*******************----------------->\n",
            "BayesianRidge(alpha_1=1e-06, alpha_2=1e-06, alpha_init=None,\n",
            "              compute_score=False, copy_X=True, fit_intercept=True,\n",
            "              lambda_1=1e-06, lambda_2=1e-06, lambda_init=None, n_iter=300,\n",
            "              normalize=False, tol=0.001, verbose=False)\n",
            "8 0.7564952291454149\n",
            "f1_score : 0.938\n",
            "purity : 1.000\n",
            "Silhouette Coefficient : 0.622\n",
            "<------------------*******************----------------->\n",
            "LogisticRegression(C=1.0, class_weight=None, dual=False, fit_intercept=True,\n",
            "                   intercept_scaling=1, l1_ratio=None, max_iter=100,\n",
            "                   multi_class='auto', n_jobs=None, penalty='l2',\n",
            "                   random_state=42, solver='lbfgs', tol=0.0001, verbose=0,\n",
            "                   warm_start=False)\n",
            "9 1.0\n",
            "f1_score : 1.000\n",
            "purity : 1.000\n",
            "Silhouette Coefficient : 1.000\n",
            "<------------------*******************----------------->\n",
            "SVC(C=1.0, break_ties=False, cache_size=200, class_weight=None, coef0=0.0,\n",
            "    decision_function_shape='ovr', degree=3, gamma='auto', kernel='rbf',\n",
            "    max_iter=-1, probability=False, random_state=None, shrinking=True,\n",
            "    tol=0.001, verbose=False)\n",
            "10 0.53125\n",
            "f1_score : 0.000\n",
            "purity : 0.531\n",
            "Silhouette Coefficient : 0.000\n"
          ],
          "name": "stdout"
        },
        {
          "output_type": "stream",
          "text": [
            "/usr/local/lib/python3.6/dist-packages/sklearn/linear_model/_logistic.py:940: ConvergenceWarning: lbfgs failed to converge (status=1):\n",
            "STOP: TOTAL NO. of ITERATIONS REACHED LIMIT.\n",
            "\n",
            "Increase the number of iterations (max_iter) or scale the data as shown in:\n",
            "    https://scikit-learn.org/stable/modules/preprocessing.html\n",
            "Please also refer to the documentation for alternative solver options:\n",
            "    https://scikit-learn.org/stable/modules/linear_model.html#logistic-regression\n",
            "  extra_warning_msg=_LOGISTIC_SOLVER_CONVERGENCE_MSG)\n"
          ],
          "name": "stderr"
        }
      ]
    },
    {
      "cell_type": "code",
      "metadata": {
        "id": "AkooD31ajvVg",
        "colab_type": "code",
        "colab": {}
      },
      "source": [
        ""
      ],
      "execution_count": 0,
      "outputs": []
    }
  ]
}