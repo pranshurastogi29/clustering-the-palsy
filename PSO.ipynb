{
 "cells": [
  {
   "cell_type": "code",
   "execution_count": 11,
   "metadata": {},
   "outputs": [],
   "source": [
    "import pandas as pd\n",
    "from sklearn.cluster import KMeans, SpectralClustering\n",
    "import matplotlib.pyplot as plt\n",
    "from matplotlib.image import imread\n",
    "import pandas as pd\n",
    "import seaborn as sns\n",
    "from sklearn.metrics import silhouette_samples, silhouette_score"
   ]
  },
  {
   "cell_type": "code",
   "execution_count": 150,
   "metadata": {},
   "outputs": [],
   "source": [
    "import numpy\n",
    "\n",
    "def quantization_score(centroids: np.ndarray, labels: np.ndarray, data: np.ndarray) -> float:\n",
    "    error = 0.0\n",
    "    for i, c in enumerate(centroids):\n",
    "        idx = np.where(labels == i)\n",
    "        dist = np.linalg.norm(data[idx] - c)\n",
    "        dist /= len(idx)\n",
    "        error += dist\n",
    "    error /= len(centroids)\n",
    "    return error\n",
    "\n",
    "def calc_mse(centroids: numpy.ndarray, labels: np.ndarray, data: np.ndarray):\n",
    "    distances = []\n",
    "    for i, c in enumerate(centroids):\n",
    "        idx = numpy.where(labels == i)\n",
    "        dist = numpy.mean((data[idx] - c)**2)\n",
    "        distances.append(dist)\n",
    "    return np.mean(distances)\n",
    "\n",
    "\n",
    "class Particle:\n",
    "    \n",
    "    def __init__(self,\n",
    "                 n_cluster: int,\n",
    "                 data: np.ndarray,\n",
    "                 w: float = 0.9,\n",
    "                 c1: float = 0.5,\n",
    "                 c2: float = 0.3):\n",
    "        index = np.random.choice(list(range(len(data))), n_cluster)\n",
    "        self.centroids = data[index].copy()\n",
    "        self.best_position = self.centroids.copy()\n",
    "        self.best_score = quantization_score(self.centroids, self._predict(data), data)\n",
    "        self.best_mse = calc_mse(self.centroids, self._predict(data), data)\n",
    "        self.velocity = np.zeros_like(self.centroids)\n",
    "        self._w = w\n",
    "        self._c1 = c1\n",
    "        self._c2 = c2\n",
    "\n",
    "    def update(self, gbest_position: np.ndarray, data: np.ndarray):\n",
    "        self._update_velocity(gbest_position)\n",
    "        self._update_centroids(data)\n",
    "\n",
    "    def _update_velocity(self, gbest_position: np.ndarray):\n",
    "\n",
    "        v_old = self._w * self.velocity\n",
    "        cognitive_component = self._c1 * np.random.random() * (self.best_position - self.centroids)\n",
    "        social_component = self._c2 * np.random.random() * (gbest_position - self.centroids)\n",
    "        self.velocity = v_old + cognitive_component + social_component\n",
    "\n",
    "    def _update_centroids(self, data: np.ndarray):\n",
    "        self.centroids = self.centroids + self.velocity\n",
    "        new_score = quantization_score(self.centroids, self._predict(data), data)\n",
    "        mse = calc_mse(self.centroids, self._predict(data), data)\n",
    "        self.best_mse = min(mse, self.best_mse)\n",
    "        if new_score < self.best_score:\n",
    "            self.best_score = new_score\n",
    "            self.best_position = self.centroids.copy()\n",
    "\n",
    "    def _predict(self, data: np.ndarray) -> np.ndarray:\n",
    "        \n",
    "        distance = self._calc_distance(data)\n",
    "        cluster = self._assign_cluster(distance)\n",
    "        return cluster\n",
    "\n",
    "    def _calc_distance(self, data: np.ndarray) -> np.ndarray:\n",
    "        \n",
    "        distances = []\n",
    "        for c in self.centroids:\n",
    "            distance = np.sum((data - c) * (data - c), axis=1)\n",
    "            distances.append(distance)\n",
    "\n",
    "        distances = np.array(distances)\n",
    "        distances = np.transpose(distances)\n",
    "        return distances\n",
    "\n",
    "    def _assign_cluster(self, distance: np.ndarray) -> np.ndarray:\n",
    "        \n",
    "        cluster = np.argmin(distance, axis=1)\n",
    "        return cluster\n"
   ]
  },
  {
   "cell_type": "code",
   "execution_count": 151,
   "metadata": {},
   "outputs": [],
   "source": [
    "import numpy as np\n",
    "\n",
    "class ParticleSwarmOptimizedClustering:\n",
    "    def __init__(self,\n",
    "                 n_cluster: int,\n",
    "                 n_particles: int,\n",
    "                 data: np.ndarray,\n",
    "                 max_iter: int = 100,\n",
    "                 print_debug: int = 10):\n",
    "        self.n_cluster = n_cluster\n",
    "        self.n_particles = n_particles\n",
    "        self.data = data\n",
    "        self.max_iter = max_iter\n",
    "        self.particles = []\n",
    "\n",
    "        self.print_debug = print_debug\n",
    "        self.gbest_score = np.inf\n",
    "        self.gbest_centroids = None\n",
    "        self.gbest_mse = np.inf\n",
    "        self._init_particles()\n",
    "\n",
    "    def _init_particles(self):\n",
    "        for i in range(self.n_particles):\n",
    "            particle = None\n",
    "            particle = Particle(self.n_cluster, self.data)\n",
    "            if particle.best_score < self.gbest_score:\n",
    "                self.gbest_centroids = particle.centroids.copy()\n",
    "                self.gbest_score = particle.best_score\n",
    "            self.particles.append(particle)\n",
    "            self.gbest_mse = min(particle.best_mse, self.gbest_mse)\n",
    "\n",
    "    def run(self):\n",
    "        print('Initial global best score', self.gbest_score)\n",
    "        history = []\n",
    "        for i in range(self.max_iter):\n",
    "            for particle in self.particles:\n",
    "                particle.update(self.gbest_centroids, self.data)\n",
    "                \n",
    "            for particle in self.particles:\n",
    "                if particle.best_score <= self.gbest_score:\n",
    "                    self.gbest_centroids = particle.centroids.copy()\n",
    "                    self.gbest_score = particle.best_score\n",
    "            history.append(self.gbest_score)\n",
    "            if i % self.print_debug == 0:\n",
    "                print('Iteration {:04d}/{:04d} current gbest score {:.18f}'.format(\n",
    "                    i + 1, self.max_iter, self.gbest_score))\n",
    "        print('Finish with gbest score {:.18f}'.format(self.gbest_score))\n",
    "        return history\n",
    "    \n",
    "    def _calc_distance(self, data: numpy.ndarray):\n",
    "        \n",
    "        distances = []\n",
    "        for c in self.centroid:\n",
    "            distance = numpy.sum((data - c) * (data - c), axis=1)\n",
    "            distances.append(distance)\n",
    "\n",
    "        distances = numpy.array(distances)\n",
    "        distances = distances.T\n",
    "        return distances\n",
    "\n",
    "    def predict(self, distance: numpy.ndarray):\n",
    "        \n",
    "        cluster = numpy.argmin(distance, axis=1)\n",
    "        return cluster"
   ]
  },
  {
   "cell_type": "code",
   "execution_count": 152,
   "metadata": {},
   "outputs": [],
   "source": [
    "from sklearn.metrics.pairwise import euclidean_distances\n",
    "\n",
    "def delta(ck, cl):\n",
    "    values = np.ones([len(ck), len(cl)])*10000\n",
    "    \n",
    "    for i in range(0, len(ck)):\n",
    "        for j in range(0, len(cl)):\n",
    "            values[i, j] = np.linalg.norm(ck[i]-cl[j])\n",
    "            \n",
    "    return np.min(values)\n",
    "    \n",
    "def big_delta(ci):\n",
    "    values = np.zeros([len(ci), len(ci)])\n",
    "    \n",
    "    for i in range(0, len(ci)):\n",
    "        for j in range(0, len(ci)):\n",
    "            values[i, j] = np.linalg.norm(ci[i]-ci[j])\n",
    "            \n",
    "    return np.max(values)\n",
    "    \n",
    "def dunn(k_list):\n",
    "    \n",
    "    deltas = np.ones([len(k_list), len(k_list)])*1000000\n",
    "    big_deltas = np.zeros([len(k_list), 1])\n",
    "    l_range = list(range(0, len(k_list)))\n",
    "    \n",
    "    for k in l_range:\n",
    "        for l in (l_range[0:k]+l_range[k+1:]):\n",
    "            deltas[k, l] = delta(k_list[k], k_list[l])\n",
    "        \n",
    "        big_deltas[k] = big_delta(k_list[k])\n",
    "\n",
    "    di = np.min(deltas)/np.max(big_deltas)\n",
    "    return di"
   ]
  },
  {
   "cell_type": "code",
   "execution_count": 153,
   "metadata": {},
   "outputs": [],
   "source": [
    "df=pd.read_csv('norm.csv')"
   ]
  },
  {
   "cell_type": "code",
   "execution_count": 154,
   "metadata": {},
   "outputs": [],
   "source": [
    "df_req = df[['Stride Length (m)', 'Cadence(steps/min)', 'Leg Length (m)',\n",
    "       'Age(years)','classs']]\n",
    "X  = df_req[['Stride Length (m)', 'Cadence(steps/min)', 'Leg Length (m)',\n",
    "       'Age(years)']]\n",
    "labels = df.classs.values"
   ]
  },
  {
   "cell_type": "code",
   "execution_count": 155,
   "metadata": {},
   "outputs": [],
   "source": [
    "from sklearn.model_selection import train_test_split\n",
    "x_tr,x_tt,y_tr,y_tt = train_test_split(X,labels,test_size=.30)"
   ]
  },
  {
   "cell_type": "code",
   "execution_count": 156,
   "metadata": {},
   "outputs": [
    {
     "name": "stderr",
     "output_type": "stream",
     "text": [
      "C:\\Users\\Lenovo\\Anaconda3\\envs\\tensorflow_env\\lib\\site-packages\\numpy\\core\\fromnumeric.py:2920: RuntimeWarning: Mean of empty slice.\n",
      "  out=out, **kwargs)\n",
      "C:\\Users\\Lenovo\\Anaconda3\\envs\\tensorflow_env\\lib\\site-packages\\numpy\\core\\_methods.py:85: RuntimeWarning: invalid value encountered in double_scalars\n",
      "  ret = ret.dtype.type(ret / rcount)\n"
     ]
    }
   ],
   "source": [
    "pso = ParticleSwarmOptimizedClustering(\n",
    "        n_cluster=2, n_particles=50, data=X.values, max_iter=8000, print_debug=50)"
   ]
  },
  {
   "cell_type": "code",
   "execution_count": 157,
   "metadata": {
    "scrolled": true
   },
   "outputs": [
    {
     "name": "stdout",
     "output_type": "stream",
     "text": [
      "Initial global best score 163.62907733577805\n",
      "Iteration 0001/8000 current gbest score 163.629077335778049473\n",
      "Iteration 0051/8000 current gbest score 156.293832302095268005\n",
      "Iteration 0101/8000 current gbest score 156.217018573168644480\n",
      "Iteration 0151/8000 current gbest score 156.206373821478962327\n",
      "Iteration 0201/8000 current gbest score 156.206203938285170807\n",
      "Iteration 0251/8000 current gbest score 156.206195726828752868\n",
      "Iteration 0301/8000 current gbest score 156.206141801718302986\n",
      "Iteration 0351/8000 current gbest score 156.205713943997579918\n",
      "Iteration 0401/8000 current gbest score 156.205318210909439358\n",
      "Iteration 0451/8000 current gbest score 156.204938361334995989\n",
      "Iteration 0501/8000 current gbest score 156.204851402045392206\n",
      "Iteration 0551/8000 current gbest score 156.204826786287242157\n",
      "Iteration 0601/8000 current gbest score 156.204775340341541323\n",
      "Iteration 0651/8000 current gbest score 156.204669259214568910\n",
      "Iteration 0701/8000 current gbest score 156.204586246115411541\n",
      "Iteration 0751/8000 current gbest score 156.204573103373803633\n",
      "Iteration 0801/8000 current gbest score 156.204516894867140309\n",
      "Iteration 0851/8000 current gbest score 156.204513400536114887\n",
      "Iteration 0901/8000 current gbest score 156.204513380149023760\n",
      "Iteration 0951/8000 current gbest score 156.204513221862555383\n",
      "Iteration 1001/8000 current gbest score 156.204512893321378897\n",
      "Iteration 1051/8000 current gbest score 156.204512622231135310\n",
      "Iteration 1101/8000 current gbest score 156.204512477637138090\n",
      "Iteration 1151/8000 current gbest score 156.204512461158174119\n",
      "Iteration 1201/8000 current gbest score 156.204512456813574772\n",
      "Iteration 1251/8000 current gbest score 156.204512439530958545\n",
      "Iteration 1301/8000 current gbest score 156.204512394571423783\n",
      "Iteration 1351/8000 current gbest score 156.204512339774169050\n",
      "Iteration 1401/8000 current gbest score 156.204512337297501290\n",
      "Iteration 1451/8000 current gbest score 156.204512322688088943\n",
      "Iteration 1501/8000 current gbest score 156.204512309922307622\n",
      "Iteration 1551/8000 current gbest score 156.204512299085905624\n",
      "Iteration 1601/8000 current gbest score 156.204512267939236381\n",
      "Iteration 1651/8000 current gbest score 156.204512206476380243\n",
      "Iteration 1701/8000 current gbest score 156.204512191242486097\n",
      "Iteration 1751/8000 current gbest score 156.204512182030470058\n",
      "Iteration 1801/8000 current gbest score 156.204512156106488874\n",
      "Iteration 1851/8000 current gbest score 156.204512113076873447\n",
      "Iteration 1901/8000 current gbest score 156.204512112551100245\n",
      "Iteration 1951/8000 current gbest score 156.204512111948702113\n",
      "Iteration 2001/8000 current gbest score 156.204512111948673692\n",
      "Iteration 2051/8000 current gbest score 156.204512111948673692\n",
      "Iteration 2101/8000 current gbest score 156.204512111948673692\n",
      "Iteration 2151/8000 current gbest score 156.204512111948673692\n",
      "Iteration 2201/8000 current gbest score 156.204512111948673692\n",
      "Iteration 2251/8000 current gbest score 156.204512111948673692\n",
      "Iteration 2301/8000 current gbest score 156.204512111948673692\n",
      "Iteration 2351/8000 current gbest score 156.204512111948673692\n",
      "Iteration 2401/8000 current gbest score 156.204512111948673692\n",
      "Iteration 2451/8000 current gbest score 156.204512111948673692\n",
      "Iteration 2501/8000 current gbest score 156.204512111948673692\n",
      "Iteration 2551/8000 current gbest score 156.204512111948673692\n",
      "Iteration 2601/8000 current gbest score 156.204512111948673692\n",
      "Iteration 2651/8000 current gbest score 156.204512111948673692\n",
      "Iteration 2701/8000 current gbest score 156.204512111948673692\n",
      "Iteration 2751/8000 current gbest score 156.204512111948673692\n",
      "Iteration 2801/8000 current gbest score 156.204512111948673692\n",
      "Iteration 2851/8000 current gbest score 156.204512111948673692\n",
      "Iteration 2901/8000 current gbest score 156.204512111948673692\n",
      "Iteration 2951/8000 current gbest score 156.204512111948673692\n",
      "Iteration 3001/8000 current gbest score 156.204512111948673692\n",
      "Iteration 3051/8000 current gbest score 156.204512111948673692\n",
      "Iteration 3101/8000 current gbest score 156.204512111948673692\n",
      "Iteration 3151/8000 current gbest score 156.204512111948673692\n",
      "Iteration 3201/8000 current gbest score 156.204512111948673692\n",
      "Iteration 3251/8000 current gbest score 156.204512111948673692\n",
      "Iteration 3301/8000 current gbest score 156.204512111948673692\n",
      "Iteration 3351/8000 current gbest score 156.204512111948673692\n",
      "Iteration 3401/8000 current gbest score 156.204512111948673692\n",
      "Iteration 3451/8000 current gbest score 156.204512111948673692\n",
      "Iteration 3501/8000 current gbest score 156.204512111948673692\n",
      "Iteration 3551/8000 current gbest score 156.204512111948673692\n",
      "Iteration 3601/8000 current gbest score 156.204512111948673692\n",
      "Iteration 3651/8000 current gbest score 156.204512111948673692\n",
      "Iteration 3701/8000 current gbest score 156.204512111948673692\n",
      "Iteration 3751/8000 current gbest score 156.204512111948673692\n",
      "Iteration 3801/8000 current gbest score 156.204512111948673692\n",
      "Iteration 3851/8000 current gbest score 156.204512111948673692\n",
      "Iteration 3901/8000 current gbest score 156.204512111948673692\n",
      "Iteration 3951/8000 current gbest score 156.204512111948673692\n",
      "Iteration 4001/8000 current gbest score 156.204512111948673692\n",
      "Iteration 4051/8000 current gbest score 156.204512111948673692\n",
      "Iteration 4101/8000 current gbest score 156.204512111948673692\n",
      "Iteration 4151/8000 current gbest score 156.204512111948673692\n",
      "Iteration 4201/8000 current gbest score 156.204512111948673692\n",
      "Iteration 4251/8000 current gbest score 156.204512111948673692\n",
      "Iteration 4301/8000 current gbest score 156.204512111948673692\n",
      "Iteration 4351/8000 current gbest score 156.204512111948673692\n",
      "Iteration 4401/8000 current gbest score 156.204512111948673692\n",
      "Iteration 4451/8000 current gbest score 156.204512111948673692\n",
      "Iteration 4501/8000 current gbest score 156.204512111948673692\n",
      "Iteration 4551/8000 current gbest score 156.204512111948673692\n",
      "Iteration 4601/8000 current gbest score 156.204512111948673692\n",
      "Iteration 4651/8000 current gbest score 156.204512111948673692\n",
      "Iteration 4701/8000 current gbest score 156.204512111948673692\n",
      "Iteration 4751/8000 current gbest score 156.204512111948673692\n",
      "Iteration 4801/8000 current gbest score 156.204512111948673692\n",
      "Iteration 4851/8000 current gbest score 156.204512111948673692\n",
      "Iteration 4901/8000 current gbest score 156.204512111948673692\n",
      "Iteration 4951/8000 current gbest score 156.204512111948673692\n",
      "Iteration 5001/8000 current gbest score 156.204512111948673692\n",
      "Iteration 5051/8000 current gbest score 156.204512111948673692\n",
      "Iteration 5101/8000 current gbest score 156.204512111948673692\n",
      "Iteration 5151/8000 current gbest score 156.204512111948673692\n",
      "Iteration 5201/8000 current gbest score 156.204512111948673692\n",
      "Iteration 5251/8000 current gbest score 156.204512111948673692\n",
      "Iteration 5301/8000 current gbest score 156.204512111948673692\n",
      "Iteration 5351/8000 current gbest score 156.204512111948673692\n",
      "Iteration 5401/8000 current gbest score 156.204512111948673692\n",
      "Iteration 5451/8000 current gbest score 156.204512111948673692\n",
      "Iteration 5501/8000 current gbest score 156.204512111948673692\n",
      "Iteration 5551/8000 current gbest score 156.204512111948673692\n",
      "Iteration 5601/8000 current gbest score 156.204512111948673692\n",
      "Iteration 5651/8000 current gbest score 156.204512111948673692\n",
      "Iteration 5701/8000 current gbest score 156.204512111948673692\n",
      "Iteration 5751/8000 current gbest score 156.204512111948673692\n",
      "Iteration 5801/8000 current gbest score 156.204512111948673692\n",
      "Iteration 5851/8000 current gbest score 156.204512111948673692\n",
      "Iteration 5901/8000 current gbest score 156.204512111948673692\n",
      "Iteration 5951/8000 current gbest score 156.204512111948673692\n",
      "Iteration 6001/8000 current gbest score 156.204512111948673692\n",
      "Iteration 6051/8000 current gbest score 156.204512111948673692\n",
      "Iteration 6101/8000 current gbest score 156.204512111948673692\n",
      "Iteration 6151/8000 current gbest score 156.204512111948673692\n",
      "Iteration 6201/8000 current gbest score 156.204512111948673692\n",
      "Iteration 6251/8000 current gbest score 156.204512111948673692\n",
      "Iteration 6301/8000 current gbest score 156.204512111948673692\n",
      "Iteration 6351/8000 current gbest score 156.204512111948673692\n",
      "Iteration 6401/8000 current gbest score 156.204512111948673692\n",
      "Iteration 6451/8000 current gbest score 156.204512111948673692\n"
     ]
    },
    {
     "name": "stdout",
     "output_type": "stream",
     "text": [
      "Iteration 6501/8000 current gbest score 156.204512111948673692\n",
      "Iteration 6551/8000 current gbest score 156.204512111948673692\n",
      "Iteration 6601/8000 current gbest score 156.204512111948673692\n",
      "Iteration 6651/8000 current gbest score 156.204512111948673692\n",
      "Iteration 6701/8000 current gbest score 156.204512111948673692\n",
      "Iteration 6751/8000 current gbest score 156.204512111948673692\n",
      "Iteration 6801/8000 current gbest score 156.204512111948673692\n",
      "Iteration 6851/8000 current gbest score 156.204512111948673692\n",
      "Iteration 6901/8000 current gbest score 156.204512111948673692\n",
      "Iteration 6951/8000 current gbest score 156.204512111948673692\n",
      "Iteration 7001/8000 current gbest score 156.204512111948673692\n",
      "Iteration 7051/8000 current gbest score 156.204512111948673692\n",
      "Iteration 7101/8000 current gbest score 156.204512111948673692\n",
      "Iteration 7151/8000 current gbest score 156.204512111948673692\n",
      "Iteration 7201/8000 current gbest score 156.204512111948673692\n",
      "Iteration 7251/8000 current gbest score 156.204512111948673692\n",
      "Iteration 7301/8000 current gbest score 156.204512111948673692\n",
      "Iteration 7351/8000 current gbest score 156.204512111948673692\n",
      "Iteration 7401/8000 current gbest score 156.204512111948673692\n",
      "Iteration 7451/8000 current gbest score 156.204512111948673692\n",
      "Iteration 7501/8000 current gbest score 156.204512111948673692\n",
      "Iteration 7551/8000 current gbest score 156.204512111948673692\n",
      "Iteration 7601/8000 current gbest score 156.204512111948673692\n",
      "Iteration 7651/8000 current gbest score 156.204512111948673692\n",
      "Iteration 7701/8000 current gbest score 156.204512111948673692\n",
      "Iteration 7751/8000 current gbest score 156.204512111948673692\n",
      "Iteration 7801/8000 current gbest score 156.204512111948673692\n",
      "Iteration 7851/8000 current gbest score 156.204512111948673692\n",
      "Iteration 7901/8000 current gbest score 156.204512111948673692\n",
      "Iteration 7951/8000 current gbest score 156.204512111948673692\n",
      "Finish with gbest score 156.204512111948673692\n"
     ]
    }
   ],
   "source": [
    "hist = pso.run()"
   ]
  },
  {
   "cell_type": "code",
   "execution_count": 158,
   "metadata": {},
   "outputs": [
    {
     "data": {
      "text/plain": [
       "array([[  0.99058651, 139.7506603 ,   0.54507355,   7.57521861],\n",
       "       [  0.64637618,  88.66132506,   0.59825411,  11.87725654]])"
      ]
     },
     "execution_count": 158,
     "metadata": {},
     "output_type": "execute_result"
    }
   ],
   "source": [
    "pso.gbest_centroids"
   ]
  },
  {
   "cell_type": "code",
   "execution_count": 159,
   "metadata": {},
   "outputs": [
    {
     "data": {
      "text/plain": [
       "0.0003820288781148214"
      ]
     },
     "execution_count": 159,
     "metadata": {},
     "output_type": "execute_result"
    }
   ],
   "source": [
    "dunn(pso.gbest_centroids)"
   ]
  },
  {
   "cell_type": "code",
   "execution_count": 160,
   "metadata": {},
   "outputs": [
    {
     "data": {
      "text/plain": [
       "96.33664813186815"
      ]
     },
     "execution_count": 160,
     "metadata": {},
     "output_type": "execute_result"
    }
   ],
   "source": [
    "pso.gbest_mse"
   ]
  },
  {
   "cell_type": "code",
   "execution_count": 161,
   "metadata": {},
   "outputs": [],
   "source": [
    "d = pso.predict(X.values)"
   ]
  },
  {
   "cell_type": "code",
   "execution_count": 162,
   "metadata": {},
   "outputs": [
    {
     "name": "stdout",
     "output_type": "stream",
     "text": [
      "Silhouette Coefficient: 0.107\n"
     ]
    }
   ],
   "source": [
    "print(\"Silhouette Coefficient: %0.3f\"\n",
    "      % silhouette_score(d.reshape(-1,1),labels, metric='euclidean'))"
   ]
  },
  {
   "cell_type": "code",
   "execution_count": 163,
   "metadata": {},
   "outputs": [],
   "source": [
    "import numpy as np\n",
    "from sklearn import metrics\n",
    "\n",
    "def purity_score(y_true, y_pred):\n",
    "    # compute contingency matrix (also called confusion matrix)\n",
    "    contingency_matrix = metrics.cluster.contingency_matrix(y_true, y_pred)\n",
    "    # return purity\n",
    "    return np.sum(np.amax(contingency_matrix, axis=0)) / np.sum(contingency_matrix) "
   ]
  },
  {
   "cell_type": "code",
   "execution_count": 164,
   "metadata": {},
   "outputs": [
    {
     "data": {
      "text/plain": [
       "0.6153846153846154"
      ]
     },
     "execution_count": 164,
     "metadata": {},
     "output_type": "execute_result"
    }
   ],
   "source": [
    "purity_score(labels,d)"
   ]
  },
  {
   "cell_type": "code",
   "execution_count": null,
   "metadata": {},
   "outputs": [],
   "source": []
  }
 ],
 "metadata": {
  "kernelspec": {
   "display_name": "Python 3",
   "language": "python",
   "name": "python3"
  },
  "language_info": {
   "codemirror_mode": {
    "name": "ipython",
    "version": 3
   },
   "file_extension": ".py",
   "mimetype": "text/x-python",
   "name": "python",
   "nbconvert_exporter": "python",
   "pygments_lexer": "ipython3",
   "version": "3.6.6"
  }
 },
 "nbformat": 4,
 "nbformat_minor": 2
}
