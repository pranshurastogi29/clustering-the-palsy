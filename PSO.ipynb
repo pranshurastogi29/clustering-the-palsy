{
 "cells": [
  {
   "cell_type": "code",
   "execution_count": 1,
   "metadata": {},
   "outputs": [],
   "source": [
    "import pandas as pd\n",
    "from sklearn.cluster import KMeans, SpectralClustering\n",
    "import matplotlib.pyplot as plt\n",
    "from matplotlib.image import imread\n",
    "import pandas as pd\n",
    "import seaborn as sns\n",
    "from sklearn.metrics import silhouette_samples, silhouette_score"
   ]
  },
  {
   "cell_type": "code",
   "execution_count": 3,
   "metadata": {},
   "outputs": [],
   "source": [
    "import numpy as np\n",
    "\n",
    "def quantization_score(centroids: np.ndarray, labels: np.ndarray, data: np.ndarray) -> float:\n",
    "    error = 0.0\n",
    "    for i, c in enumerate(centroids):\n",
    "        idx = np.where(labels == i)\n",
    "        dist = np.linalg.norm(data[idx] - c)\n",
    "        dist /= len(idx)\n",
    "        error += dist\n",
    "    error /= len(centroids)\n",
    "    return error\n",
    "\n",
    "def calc_mse(centroids: numpy.ndarray, labels: np.ndarray, data: np.ndarray):\n",
    "    distances = []\n",
    "    for i, c in enumerate(centroids):\n",
    "        idx = numpy.where(labels == i)\n",
    "        dist = numpy.mean((data[idx] - c)**2)\n",
    "        distances.append(dist)\n",
    "    return np.mean(distances)\n",
    "\n",
    "\n",
    "class Particle:\n",
    "    \n",
    "    def __init__(self,\n",
    "                 n_cluster: int,\n",
    "                 data: np.ndarray,\n",
    "                 w: float = 0.9,\n",
    "                 c1: float = 0.5,\n",
    "                 c2: float = 0.3):\n",
    "        index = np.random.choice(list(range(len(data))), n_cluster)\n",
    "        self.centroids = data[index].copy()\n",
    "        self.best_position = self.centroids.copy()\n",
    "        self.best_score = quantization_score(self.centroids, self._predict(data), data)\n",
    "        self.best_mse = calc_mse(self.centroids, self._predict(data), data)\n",
    "        self.velocity = np.zeros_like(self.centroids)\n",
    "        self._w = w\n",
    "        self._c1 = c1\n",
    "        self._c2 = c2\n",
    "\n",
    "    def update(self, gbest_position: np.ndarray, data: np.ndarray):\n",
    "        self._update_velocity(gbest_position)\n",
    "        self._update_centroids(data)\n",
    "\n",
    "    def _update_velocity(self, gbest_position: np.ndarray):\n",
    "\n",
    "        v_old = self._w * self.velocity\n",
    "        cognitive_component = self._c1 * np.random.random() * (self.best_position - self.centroids)\n",
    "        social_component = self._c2 * np.random.random() * (gbest_position - self.centroids)\n",
    "        self.velocity = v_old + cognitive_component + social_component\n",
    "\n",
    "    def _update_centroids(self, data: np.ndarray):\n",
    "        self.centroids = self.centroids + self.velocity\n",
    "        new_score = quantization_score(self.centroids, self._predict(data), data)\n",
    "        mse = calc_mse(self.centroids, self._predict(data), data)\n",
    "        self.best_mse = min(mse, self.best_mse)\n",
    "        if new_score < self.best_score:\n",
    "            self.best_score = new_score\n",
    "            self.best_position = self.centroids.copy()\n",
    "\n",
    "    def _predict(self, data: np.ndarray) -> np.ndarray:\n",
    "        \n",
    "        distance = self._calc_distance(data)\n",
    "        cluster = self._assign_cluster(distance)\n",
    "        return cluster\n",
    "\n",
    "    def _calc_distance(self, data: np.ndarray) -> np.ndarray:\n",
    "        \n",
    "        distances = []\n",
    "        for c in self.centroids:\n",
    "            distance = np.sum((data - c) * (data - c), axis=1)\n",
    "            distances.append(distance)\n",
    "\n",
    "        distances = np.array(distances)\n",
    "        distances = np.transpose(distances)\n",
    "        return distances\n",
    "\n",
    "    def _assign_cluster(self, distance: np.ndarray) -> np.ndarray:\n",
    "        \n",
    "        cluster = np.argmin(distance, axis=1)\n",
    "        return cluster\n"
   ]
  },
  {
   "cell_type": "code",
   "execution_count": 4,
   "metadata": {},
   "outputs": [],
   "source": [
    "import numpy as np\n",
    "\n",
    "class ParticleSwarmOptimizedClustering:\n",
    "    def __init__(self,\n",
    "                 n_cluster: int,\n",
    "                 n_particles: int,\n",
    "                 data: np.ndarray,\n",
    "                 max_iter: int = 100,\n",
    "                 print_debug: int = 10):\n",
    "        self.n_cluster = n_cluster\n",
    "        self.n_particles = n_particles\n",
    "        self.data = data\n",
    "        self.max_iter = max_iter\n",
    "        self.particles = []\n",
    "\n",
    "        self.print_debug = print_debug\n",
    "        self.gbest_score = np.inf\n",
    "        self.gbest_centroids = None\n",
    "        self.gbest_mse = np.inf\n",
    "        self._init_particles()\n",
    "\n",
    "    def _init_particles(self):\n",
    "        for i in range(self.n_particles):\n",
    "            particle = None\n",
    "            particle = Particle(self.n_cluster, self.data)\n",
    "            if particle.best_score < self.gbest_score:\n",
    "                self.gbest_centroids = particle.centroids.copy()\n",
    "                self.gbest_score = particle.best_score\n",
    "            self.particles.append(particle)\n",
    "            self.gbest_mse = min(particle.best_mse, self.gbest_mse)\n",
    "\n",
    "    def run(self):\n",
    "        print('Initial global best score', self.gbest_score)\n",
    "        history = []\n",
    "        for i in range(self.max_iter):\n",
    "            for particle in self.particles:\n",
    "                particle.update(self.gbest_centroids, self.data)\n",
    "                \n",
    "            for particle in self.particles:\n",
    "                if particle.best_score <= self.gbest_score:\n",
    "                    self.gbest_centroids = particle.centroids.copy()\n",
    "                    self.gbest_score = particle.best_score\n",
    "            history.append(self.gbest_score)\n",
    "            if i % self.print_debug == 0:\n",
    "                print('Iteration {:04d}/{:04d} current gbest score {:.18f}'.format(\n",
    "                    i + 1, self.max_iter, self.gbest_score))\n",
    "        print('Finish with gbest score {:.18f}'.format(self.gbest_score))\n",
    "        return history\n",
    "    \n",
    "    def _calc_distance(self, data: numpy.ndarray):\n",
    "        \n",
    "        distances = []\n",
    "        for c in self.centroid:\n",
    "            distance = numpy.sum((data - c) * (data - c), axis=1)\n",
    "            distances.append(distance)\n",
    "\n",
    "        distances = numpy.array(distances)\n",
    "        distances = distances.T\n",
    "        return distances\n",
    "\n",
    "    def predict(self, distance: numpy.ndarray):\n",
    "        \n",
    "        cluster = numpy.argmin(distance, axis=1)\n",
    "        return cluster"
   ]
  },
  {
   "cell_type": "code",
   "execution_count": 5,
   "metadata": {},
   "outputs": [],
   "source": [
    "from sklearn.metrics.pairwise import euclidean_distances\n",
    "\n",
    "def delta(ck, cl):\n",
    "    values = np.ones([len(ck), len(cl)])*10000\n",
    "    \n",
    "    for i in range(0, len(ck)):\n",
    "        for j in range(0, len(cl)):\n",
    "            values[i, j] = np.linalg.norm(ck[i]-cl[j])\n",
    "            \n",
    "    return np.min(values)\n",
    "    \n",
    "def big_delta(ci):\n",
    "    values = np.zeros([len(ci), len(ci)])\n",
    "    \n",
    "    for i in range(0, len(ci)):\n",
    "        for j in range(0, len(ci)):\n",
    "            values[i, j] = np.linalg.norm(ci[i]-ci[j])\n",
    "            \n",
    "    return np.max(values)\n",
    "    \n",
    "def dunn(k_list):\n",
    "    \n",
    "    deltas = np.ones([len(k_list), len(k_list)])*1000000\n",
    "    big_deltas = np.zeros([len(k_list), 1])\n",
    "    l_range = list(range(0, len(k_list)))\n",
    "    \n",
    "    for k in l_range:\n",
    "        for l in (l_range[0:k]+l_range[k+1:]):\n",
    "            deltas[k, l] = delta(k_list[k], k_list[l])\n",
    "        \n",
    "        big_deltas[k] = big_delta(k_list[k])\n",
    "\n",
    "    di = np.min(deltas)/np.max(big_deltas)\n",
    "    return di"
   ]
  },
  {
   "cell_type": "code",
   "execution_count": 6,
   "metadata": {},
   "outputs": [],
   "source": [
    "df=pd.read_csv('norm.csv')"
   ]
  },
  {
   "cell_type": "code",
   "execution_count": 7,
   "metadata": {},
   "outputs": [],
   "source": [
    "df_req = df[['Stride Length (m)', 'Cadence(steps/min)', 'Leg Length (m)',\n",
    "       'Age(years)','classs']]\n",
    "X  = df_req[['Stride Length (m)', 'Cadence(steps/min)', 'Leg Length (m)',\n",
    "       'Age(years)']]\n",
    "labels = df.classs.values"
   ]
  },
  {
   "cell_type": "code",
   "execution_count": 8,
   "metadata": {},
   "outputs": [],
   "source": [
    "from sklearn.model_selection import train_test_split\n",
    "x_tr,x_tt,y_tr,y_tt = train_test_split(X,labels,test_size=.30)"
   ]
  },
  {
   "cell_type": "code",
   "execution_count": 9,
   "metadata": {},
   "outputs": [],
   "source": [
    "pso = ParticleSwarmOptimizedClustering(\n",
    "        n_cluster=2, n_particles=50, data=X.values, max_iter=8000, print_debug=50)"
   ]
  },
  {
   "cell_type": "code",
   "execution_count": 10,
   "metadata": {
    "scrolled": true
   },
   "outputs": [
    {
     "name": "stdout",
     "output_type": "stream",
     "text": [
      "Initial global best score 160.82596094624975\n",
      "Iteration 0001/8000 current gbest score 160.825960946249750805\n",
      "Iteration 0051/8000 current gbest score 157.314217701448228581\n",
      "Iteration 0101/8000 current gbest score 156.721501006004388046\n",
      "Iteration 0151/8000 current gbest score 156.314782831321878120\n",
      "Iteration 0201/8000 current gbest score 156.214928560780862199\n",
      "Iteration 0251/8000 current gbest score 156.214788386193504266\n",
      "Iteration 0301/8000 current gbest score 156.214629079232906861\n",
      "Iteration 0351/8000 current gbest score 156.213052181113255301\n",
      "Iteration 0401/8000 current gbest score 156.208873813634397720\n",
      "Iteration 0451/8000 current gbest score 156.206513466775078314\n",
      "Iteration 0501/8000 current gbest score 156.206219358625162386\n",
      "Iteration 0551/8000 current gbest score 156.206183149398071919\n",
      "Iteration 0601/8000 current gbest score 156.206142092587015213\n",
      "Iteration 0651/8000 current gbest score 156.206128334374938049\n",
      "Iteration 0701/8000 current gbest score 156.206125090700680857\n",
      "Iteration 0751/8000 current gbest score 156.206122593049656189\n",
      "Iteration 0801/8000 current gbest score 156.206119409204433168\n",
      "Iteration 0851/8000 current gbest score 156.206118579609892549\n",
      "Iteration 0901/8000 current gbest score 156.206117068169419326\n",
      "Iteration 0951/8000 current gbest score 156.206115108545418479\n",
      "Iteration 1001/8000 current gbest score 156.206114723265699240\n",
      "Iteration 1051/8000 current gbest score 156.206114723210305328\n",
      "Iteration 1101/8000 current gbest score 156.206114723156815671\n",
      "Iteration 1151/8000 current gbest score 156.206114722425866148\n",
      "Iteration 1201/8000 current gbest score 156.206114720791930495\n",
      "Iteration 1251/8000 current gbest score 156.206114719488709852\n",
      "Iteration 1301/8000 current gbest score 156.206114715774958768\n",
      "Iteration 1351/8000 current gbest score 156.206114709902067261\n",
      "Iteration 1401/8000 current gbest score 156.206114709026451237\n",
      "Iteration 1451/8000 current gbest score 156.206114708153478432\n",
      "Iteration 1501/8000 current gbest score 156.206114707048385526\n",
      "Iteration 1551/8000 current gbest score 156.206114705378013241\n",
      "Iteration 1601/8000 current gbest score 156.206114704659029258\n",
      "Iteration 1651/8000 current gbest score 156.206114703410008815\n",
      "Iteration 1701/8000 current gbest score 156.206114700235190185\n",
      "Iteration 1751/8000 current gbest score 156.206114692412654676\n",
      "Iteration 1801/8000 current gbest score 156.206114685530252473\n",
      "Iteration 1851/8000 current gbest score 156.206114685530224051\n",
      "Iteration 1901/8000 current gbest score 156.206114685530224051\n",
      "Iteration 1951/8000 current gbest score 156.206114685530224051\n",
      "Iteration 2001/8000 current gbest score 156.206114685530224051\n",
      "Iteration 2051/8000 current gbest score 156.206114685530224051\n",
      "Iteration 2101/8000 current gbest score 156.206114685530224051\n",
      "Iteration 2151/8000 current gbest score 156.206114685530224051\n",
      "Iteration 2201/8000 current gbest score 156.206114685530224051\n",
      "Iteration 2251/8000 current gbest score 156.206114685530224051\n",
      "Iteration 2301/8000 current gbest score 156.206114685530224051\n",
      "Iteration 2351/8000 current gbest score 156.206114685530224051\n",
      "Iteration 2401/8000 current gbest score 156.206114685530224051\n",
      "Iteration 2451/8000 current gbest score 156.206114685530224051\n",
      "Iteration 2501/8000 current gbest score 156.206114685530224051\n",
      "Iteration 2551/8000 current gbest score 156.206114685530224051\n",
      "Iteration 2601/8000 current gbest score 156.206114685530224051\n",
      "Iteration 2651/8000 current gbest score 156.206114685530224051\n",
      "Iteration 2701/8000 current gbest score 156.206114685530224051\n",
      "Iteration 2751/8000 current gbest score 156.206114685530224051\n",
      "Iteration 2801/8000 current gbest score 156.206114685530224051\n",
      "Iteration 2851/8000 current gbest score 156.206114685530224051\n",
      "Iteration 2901/8000 current gbest score 156.206114685530224051\n",
      "Iteration 2951/8000 current gbest score 156.206114685530224051\n",
      "Iteration 3001/8000 current gbest score 156.206114685530224051\n",
      "Iteration 3051/8000 current gbest score 156.206114685530224051\n",
      "Iteration 3101/8000 current gbest score 156.206114685530224051\n",
      "Iteration 3151/8000 current gbest score 156.206114685530224051\n",
      "Iteration 3201/8000 current gbest score 156.206114685530224051\n",
      "Iteration 3251/8000 current gbest score 156.206114685530224051\n",
      "Iteration 3301/8000 current gbest score 156.206114685530224051\n",
      "Iteration 3351/8000 current gbest score 156.206114685530224051\n",
      "Iteration 3401/8000 current gbest score 156.206114685530224051\n",
      "Iteration 3451/8000 current gbest score 156.206114685530224051\n",
      "Iteration 3501/8000 current gbest score 156.206114685530224051\n",
      "Iteration 3551/8000 current gbest score 156.206114685530224051\n",
      "Iteration 3601/8000 current gbest score 156.206114685530224051\n",
      "Iteration 3651/8000 current gbest score 156.206114685530224051\n",
      "Iteration 3701/8000 current gbest score 156.206114685530224051\n",
      "Iteration 3751/8000 current gbest score 156.206114685530224051\n",
      "Iteration 3801/8000 current gbest score 156.206114685530224051\n",
      "Iteration 3851/8000 current gbest score 156.206114685530224051\n",
      "Iteration 3901/8000 current gbest score 156.206114685530224051\n",
      "Iteration 3951/8000 current gbest score 156.206114685530224051\n",
      "Iteration 4001/8000 current gbest score 156.206114685530224051\n",
      "Iteration 4051/8000 current gbest score 156.206114685530224051\n",
      "Iteration 4101/8000 current gbest score 156.206114685530224051\n",
      "Iteration 4151/8000 current gbest score 156.206114685530224051\n",
      "Iteration 4201/8000 current gbest score 156.206114685530224051\n",
      "Iteration 4251/8000 current gbest score 156.206114685530224051\n",
      "Iteration 4301/8000 current gbest score 156.206114685530224051\n",
      "Iteration 4351/8000 current gbest score 156.206114685530224051\n",
      "Iteration 4401/8000 current gbest score 156.206114685530224051\n",
      "Iteration 4451/8000 current gbest score 156.206114685530224051\n",
      "Iteration 4501/8000 current gbest score 156.206114685530224051\n",
      "Iteration 4551/8000 current gbest score 156.206114685530224051\n",
      "Iteration 4601/8000 current gbest score 156.206114685530224051\n",
      "Iteration 4651/8000 current gbest score 156.206114685530224051\n",
      "Iteration 4701/8000 current gbest score 156.206114685530224051\n",
      "Iteration 4751/8000 current gbest score 156.206114685530224051\n",
      "Iteration 4801/8000 current gbest score 156.206114685530224051\n",
      "Iteration 4851/8000 current gbest score 156.206114685530224051\n",
      "Iteration 4901/8000 current gbest score 156.206114685530224051\n",
      "Iteration 4951/8000 current gbest score 156.206114685530224051\n",
      "Iteration 5001/8000 current gbest score 156.206114685530224051\n",
      "Iteration 5051/8000 current gbest score 156.206114685530224051\n",
      "Iteration 5101/8000 current gbest score 156.206114685530224051\n",
      "Iteration 5151/8000 current gbest score 156.206114685530224051\n",
      "Iteration 5201/8000 current gbest score 156.206114685530224051\n",
      "Iteration 5251/8000 current gbest score 156.206114685530224051\n",
      "Iteration 5301/8000 current gbest score 156.206114685530224051\n",
      "Iteration 5351/8000 current gbest score 156.206114685530224051\n",
      "Iteration 5401/8000 current gbest score 156.206114685530224051\n",
      "Iteration 5451/8000 current gbest score 156.206114685530224051\n",
      "Iteration 5501/8000 current gbest score 156.206114685530224051\n",
      "Iteration 5551/8000 current gbest score 156.206114685530224051\n",
      "Iteration 5601/8000 current gbest score 156.206114685530224051\n",
      "Iteration 5651/8000 current gbest score 156.206114685530224051\n",
      "Iteration 5701/8000 current gbest score 156.206114685530224051\n",
      "Iteration 5751/8000 current gbest score 156.206114685530224051\n",
      "Iteration 5801/8000 current gbest score 156.206114685530224051\n",
      "Iteration 5851/8000 current gbest score 156.206114685530224051\n",
      "Iteration 5901/8000 current gbest score 156.206114685530224051\n",
      "Iteration 5951/8000 current gbest score 156.206114685530224051\n",
      "Iteration 6001/8000 current gbest score 156.206114685530224051\n",
      "Iteration 6051/8000 current gbest score 156.206114685530224051\n",
      "Iteration 6101/8000 current gbest score 156.206114685530224051\n",
      "Iteration 6151/8000 current gbest score 156.206114685530224051\n",
      "Iteration 6201/8000 current gbest score 156.206114685530224051\n",
      "Iteration 6251/8000 current gbest score 156.206114685530224051\n",
      "Iteration 6301/8000 current gbest score 156.206114685530224051\n",
      "Iteration 6351/8000 current gbest score 156.206114685530224051\n",
      "Iteration 6401/8000 current gbest score 156.206114685530224051\n",
      "Iteration 6451/8000 current gbest score 156.206114685530224051\n"
     ]
    },
    {
     "name": "stdout",
     "output_type": "stream",
     "text": [
      "Iteration 6501/8000 current gbest score 156.206114685530224051\n",
      "Iteration 6551/8000 current gbest score 156.206114685530224051\n",
      "Iteration 6601/8000 current gbest score 156.206114685530224051\n",
      "Iteration 6651/8000 current gbest score 156.206114685530224051\n",
      "Iteration 6701/8000 current gbest score 156.206114685530224051\n",
      "Iteration 6751/8000 current gbest score 156.206114685530224051\n",
      "Iteration 6801/8000 current gbest score 156.206114685530224051\n",
      "Iteration 6851/8000 current gbest score 156.206114685530224051\n",
      "Iteration 6901/8000 current gbest score 156.206114685530224051\n",
      "Iteration 6951/8000 current gbest score 156.206114685530224051\n",
      "Iteration 7001/8000 current gbest score 156.206114685530224051\n",
      "Iteration 7051/8000 current gbest score 156.206114685530224051\n",
      "Iteration 7101/8000 current gbest score 156.206114685530224051\n",
      "Iteration 7151/8000 current gbest score 156.206114685530224051\n",
      "Iteration 7201/8000 current gbest score 156.206114685530224051\n",
      "Iteration 7251/8000 current gbest score 156.206114685530224051\n",
      "Iteration 7301/8000 current gbest score 156.206114685530224051\n",
      "Iteration 7351/8000 current gbest score 156.206114685530224051\n",
      "Iteration 7401/8000 current gbest score 156.206114685530224051\n",
      "Iteration 7451/8000 current gbest score 156.206114685530224051\n",
      "Iteration 7501/8000 current gbest score 156.206114685530224051\n",
      "Iteration 7551/8000 current gbest score 156.206114685530224051\n",
      "Iteration 7601/8000 current gbest score 156.206114685530224051\n",
      "Iteration 7651/8000 current gbest score 156.206114685530224051\n",
      "Iteration 7701/8000 current gbest score 156.206114685530224051\n",
      "Iteration 7751/8000 current gbest score 156.206114685530224051\n",
      "Iteration 7801/8000 current gbest score 156.206114685530224051\n",
      "Iteration 7851/8000 current gbest score 156.206114685530224051\n",
      "Iteration 7901/8000 current gbest score 156.206114685530224051\n",
      "Iteration 7951/8000 current gbest score 156.206114685530224051\n",
      "Finish with gbest score 156.206114685530224051\n"
     ]
    }
   ],
   "source": [
    "hist = pso.run()"
   ]
  },
  {
   "cell_type": "code",
   "execution_count": 11,
   "metadata": {},
   "outputs": [
    {
     "data": {
      "text/plain": [
       "array([[  0.92393282,  88.71643029,   0.80928815,  11.85118157],\n",
       "       [  0.99122342, 139.76460205,   0.67982535,   7.63205589]])"
      ]
     },
     "execution_count": 11,
     "metadata": {},
     "output_type": "execute_result"
    }
   ],
   "source": [
    "pso.gbest_centroids"
   ]
  },
  {
   "cell_type": "code",
   "execution_count": 12,
   "metadata": {},
   "outputs": [
    {
     "data": {
      "text/plain": [
       "0.00048381001904707717"
      ]
     },
     "execution_count": 12,
     "metadata": {},
     "output_type": "execute_result"
    }
   ],
   "source": [
    "dunn(pso.gbest_centroids)"
   ]
  },
  {
   "cell_type": "code",
   "execution_count": 13,
   "metadata": {},
   "outputs": [
    {
     "data": {
      "text/plain": [
       "91.98136137377344"
      ]
     },
     "execution_count": 13,
     "metadata": {},
     "output_type": "execute_result"
    }
   ],
   "source": [
    "pso.gbest_mse"
   ]
  },
  {
   "cell_type": "code",
   "execution_count": 14,
   "metadata": {},
   "outputs": [],
   "source": [
    "d = pso.predict(X.values)"
   ]
  },
  {
   "cell_type": "code",
   "execution_count": 15,
   "metadata": {},
   "outputs": [
    {
     "name": "stdout",
     "output_type": "stream",
     "text": [
      "Silhouette Coefficient: 0.107\n"
     ]
    }
   ],
   "source": [
    "print(\"Silhouette Coefficient: %0.3f\"\n",
    "      % silhouette_score(d.reshape(-1,1),labels, metric='euclidean'))"
   ]
  },
  {
   "cell_type": "code",
   "execution_count": 16,
   "metadata": {},
   "outputs": [],
   "source": [
    "import numpy as np\n",
    "from sklearn import metrics\n",
    "\n",
    "def purity_score(y_true, y_pred):\n",
    "    # compute contingency matrix (also called confusion matrix)\n",
    "    contingency_matrix = metrics.cluster.contingency_matrix(y_true, y_pred)\n",
    "    # return purity\n",
    "    return np.sum(np.amax(contingency_matrix, axis=0)) / np.sum(contingency_matrix) "
   ]
  },
  {
   "cell_type": "code",
   "execution_count": 17,
   "metadata": {},
   "outputs": [
    {
     "data": {
      "text/plain": [
       "0.6153846153846154"
      ]
     },
     "execution_count": 17,
     "metadata": {},
     "output_type": "execute_result"
    }
   ],
   "source": [
    "purity_score(labels,d)"
   ]
  }
 ],
 "metadata": {
  "kernelspec": {
   "display_name": "Python 3",
   "language": "python",
   "name": "python3"
  },
  "language_info": {
   "codemirror_mode": {
    "name": "ipython",
    "version": 3
   },
   "file_extension": ".py",
   "mimetype": "text/x-python",
   "name": "python",
   "nbconvert_exporter": "python",
   "pygments_lexer": "ipython3",
   "version": "3.6.6"
  }
 },
 "nbformat": 4,
 "nbformat_minor": 2
}
