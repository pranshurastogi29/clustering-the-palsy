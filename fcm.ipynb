{
 "cells": [
  {
   "cell_type": "code",
   "execution_count": 38,
   "metadata": {},
   "outputs": [],
   "source": [
    "import pandas as pd\n",
    "from sklearn.cluster import KMeans, SpectralClustering\n",
    "import matplotlib.pyplot as plt\n",
    "from matplotlib.image import imread\n",
    "import pandas as pd\n",
    "import seaborn as sns\n",
    "from sklearn.metrics import silhouette_samples, silhouette_score"
   ]
  },
  {
   "cell_type": "code",
   "execution_count": 39,
   "metadata": {},
   "outputs": [],
   "source": [
    "df=pd.read_csv('norm.csv')"
   ]
  },
  {
   "cell_type": "code",
   "execution_count": 52,
   "metadata": {},
   "outputs": [],
   "source": [
    "df_req = df[['Stride Length (m)', 'Cadence(steps/min)', 'Leg Length (m)',\n",
    "       'Age(years)','classs']]\n",
    "x  = df_req[['Stride Length (m)', 'Cadence(steps/min)', 'Leg Length (m)',\n",
    "       'Age(years)']]\n",
    "labels = df.classs.values"
   ]
  },
  {
   "cell_type": "code",
   "execution_count": 43,
   "metadata": {},
   "outputs": [],
   "source": [
    "from sklearn.model_selection import train_test_split\n",
    "x_tr,x_tt,y_tr,y_tt = train_test_split(X,labels,test_size=.30)"
   ]
  },
  {
   "cell_type": "code",
   "execution_count": 46,
   "metadata": {},
   "outputs": [],
   "source": [
    "import numpy as np\n",
    "from scipy.linalg import norm\n",
    "from scipy.spatial.distance import cdist\n",
    "\n",
    "class FCM:\n",
    "    \"\"\" Fuzzy C-means\n",
    "    \n",
    "    m: float, optional (default=2.0)\n",
    "        Exponent for the fuzzy partition matrix, specified as a\n",
    "        scalar greater than 1.0. This option controls the amount of\n",
    "        fuzzy overlap between clusters, with larger values indicating\n",
    "        a greater degree of overlap.\n",
    "    \n",
    "    u: array, shape = [n_samples, n_clusters]\n",
    "        Fuzzy partition array, returned as an array with n_samples rows\n",
    "        and n_clusters columns. Element u[i,j] indicates the degree of\n",
    "        membership of the jth data point in the ith cluster. For a given\n",
    "        data point, the sum of the membership values for all clusters is one.\n",
    "    \"\"\"\n",
    "    def __init__(self, n_clusters=3, max_iter=1500, m=2, error=1e+5, random_state=42):\n",
    "        assert m > 1\n",
    "        self.u, self.centers = None, None\n",
    "        self.n_clusters = n_clusters\n",
    "        self.max_iter = max_iter\n",
    "        self.m = m\n",
    "        self.error = error\n",
    "        self.random_state = random_state\n",
    "\n",
    "    def fit(self, X):\n",
    "        self.n_samples = X.shape[0]\n",
    "        r = np.random.RandomState(self.random_state)\n",
    "        self.u = r.rand(self.n_samples,self.n_clusters)\n",
    "        self.u = self.u / np.tile(self.u.sum(axis=1)[np.newaxis].T, self.n_clusters)\n",
    "        er_old = self.error\n",
    "        for iteration in range(self.max_iter):\n",
    "            distance = np.zeros(X.shape[0])\n",
    "            for k in range(self.n_clusters):\n",
    "                self.centers = self.next_centers(X)\n",
    "                self.u = self._predict(X)\n",
    "                labels = self.predict(X)\n",
    "                distance[labels == k] = norm(X[labels == k] - self.centers[k], axis=1)\n",
    "                distance = np.square(distance)\n",
    "                u = self.u**2\n",
    "                error = np.expand_dims(distance, axis=0) @ u\n",
    "                error = np.mean(error)\n",
    "                if error < er_old:\n",
    "                    break\n",
    "                else:\n",
    "                    er_old = error \n",
    "                    \n",
    "    def next_centers(self, X):\n",
    "        um = self.u ** self.m\n",
    "        return (X.T @ um / np.sum(um, axis=0)).T\n",
    "\n",
    "    def _predict(self, X):\n",
    "        power = float(2 / (self.m - 1))\n",
    "        temp = cdist(X, self.centers) ** power\n",
    "        denominator_ = temp.reshape((X.shape[0], 1, -1)).repeat(temp.shape[-1], axis=1)\n",
    "        denominator_ = temp[:, :, np.newaxis] / denominator_\n",
    "        return 1 / denominator_.sum(2)\n",
    "\n",
    "    def predict(self, X):\n",
    "        if len(X.shape) == 1:\n",
    "            X = np.expand_dims(X, axis=0)\n",
    "        u = self._predict(X)\n",
    "        return np.argmax(u, axis=-1)"
   ]
  },
  {
   "cell_type": "code",
   "execution_count": 56,
   "metadata": {},
   "outputs": [],
   "source": [
    "a = FCM(n_clusters = 2)"
   ]
  },
  {
   "cell_type": "code",
   "execution_count": 57,
   "metadata": {},
   "outputs": [],
   "source": [
    "b = a.fit(x.values)"
   ]
  },
  {
   "cell_type": "code",
   "execution_count": 61,
   "metadata": {},
   "outputs": [],
   "source": [
    "c = a.predict(x.values)"
   ]
  },
  {
   "cell_type": "code",
   "execution_count": 58,
   "metadata": {},
   "outputs": [
    {
     "name": "stdout",
     "output_type": "stream",
     "text": [
      "Silhouette Coefficient: 0.082\n"
     ]
    }
   ],
   "source": [
    "print(\"Silhouette Coefficient: %0.3f\"\n",
    "      % silhouette_score(c,labels, metric='euclidean'))"
   ]
  },
  {
   "cell_type": "code",
   "execution_count": 63,
   "metadata": {},
   "outputs": [],
   "source": [
    "import numpy as np\n",
    "from sklearn import metrics\n",
    "\n",
    "def purity_score(y_true, y_pred):\n",
    "    # compute contingency matrix (also called confusion matrix)\n",
    "    contingency_matrix = metrics.cluster.contingency_matrix(y_true, y_pred)\n",
    "    # return purity\n",
    "    return np.sum(np.amax(contingency_matrix, axis=0)) / np.sum(contingency_matrix) "
   ]
  },
  {
   "cell_type": "code",
   "execution_count": 64,
   "metadata": {},
   "outputs": [
    {
     "data": {
      "text/plain": [
       "0.6602564102564102"
      ]
     },
     "execution_count": 64,
     "metadata": {},
     "output_type": "execute_result"
    }
   ],
   "source": [
    "purity_score(labels,c)"
   ]
  }
 ],
 "metadata": {
  "kernelspec": {
   "display_name": "Python 3",
   "language": "python",
   "name": "python3"
  },
  "language_info": {
   "codemirror_mode": {
    "name": "ipython",
    "version": 3
   },
   "file_extension": ".py",
   "mimetype": "text/x-python",
   "name": "python",
   "nbconvert_exporter": "python",
   "pygments_lexer": "ipython3",
   "version": "3.6.6"
  }
 },
 "nbformat": 4,
 "nbformat_minor": 2
}
