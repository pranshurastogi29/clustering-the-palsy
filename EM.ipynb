{
  "nbformat": 4,
  "nbformat_minor": 0,
  "metadata": {
    "kernelspec": {
      "display_name": "Python 3",
      "language": "python",
      "name": "python3"
    },
    "language_info": {
      "codemirror_mode": {
        "name": "ipython",
        "version": 3
      },
      "file_extension": ".py",
      "mimetype": "text/x-python",
      "name": "python",
      "nbconvert_exporter": "python",
      "pygments_lexer": "ipython3",
      "version": "3.6.6"
    },
    "colab": {
      "name": "EM.ipynb",
      "provenance": []
    }
  },
  "cells": [
    {
      "cell_type": "code",
      "metadata": {
        "id": "flEdgEqhYzyW",
        "colab_type": "code",
        "colab": {
          "base_uri": "https://localhost:8080/",
          "height": 129
        },
        "outputId": "cbdf6f39-f704-405b-8b7e-00917474e170"
      },
      "source": [
        "from google.colab import drive\n",
        "drive.mount('/content/drive')"
      ],
      "execution_count": 1,
      "outputs": [
        {
          "output_type": "stream",
          "text": [
            "Go to this URL in a browser: https://accounts.google.com/o/oauth2/auth?client_id=947318989803-6bn6qk8qdgf4n4g3pfee6491hc0brc4i.apps.googleusercontent.com&redirect_uri=urn%3aietf%3awg%3aoauth%3a2.0%3aoob&response_type=code&scope=email%20https%3a%2f%2fwww.googleapis.com%2fauth%2fdocs.test%20https%3a%2f%2fwww.googleapis.com%2fauth%2fdrive%20https%3a%2f%2fwww.googleapis.com%2fauth%2fdrive.photos.readonly%20https%3a%2f%2fwww.googleapis.com%2fauth%2fpeopleapi.readonly\n",
            "\n",
            "Enter your authorization code:\n",
            "··········\n",
            "Mounted at /content/drive\n"
          ],
          "name": "stdout"
        }
      ]
    },
    {
      "cell_type": "code",
      "metadata": {
        "id": "sLc7-Xi6Yq7-",
        "colab_type": "code",
        "colab": {}
      },
      "source": [
        "import pandas as pd\n",
        "import random\n",
        "from sklearn.metrics import silhouette_samples, silhouette_score\n",
        "from scipy.stats import multivariate_normal\n",
        "from sklearn.metrics.pairwise import euclidean_distances\n",
        "from sklearn import metrics\n",
        "import numpy as np\n",
        "\n",
        "def purity_score(y_true, y_pred):\n",
        "    # compute contingency matrix (also called confusion matrix)\n",
        "    contingency_matrix = metrics.cluster.contingency_matrix(y_true, y_pred)\n",
        "    # return purity\n",
        "    return np.sum(np.amax(contingency_matrix, axis=0)) / np.sum(contingency_matrix) \n",
        "\n",
        "def delta(ck, cl):\n",
        "    values = np.ones([len(ck), len(cl)])*10000\n",
        "    \n",
        "    for i in range(0, len(ck)):\n",
        "        for j in range(0, len(cl)):\n",
        "            values[i, j] = np.linalg.norm(ck[i]-cl[j])\n",
        "            \n",
        "    return np.min(values)\n",
        "    \n",
        "def big_delta(ci):\n",
        "    values = np.zeros([len(ci), len(ci)])\n",
        "    \n",
        "    for i in range(0, len(ci)):\n",
        "        for j in range(0, len(ci)):\n",
        "            values[i, j] = np.linalg.norm(ci[i]-ci[j])\n",
        "            \n",
        "    return np.max(values)\n",
        "    \n",
        "def dunn(k_list):\n",
        "    \n",
        "    deltas = np.ones([len(k_list), len(k_list)])*1000000\n",
        "    big_deltas = np.zeros([len(k_list), 1])\n",
        "    l_range = list(range(0, len(k_list)))\n",
        "    \n",
        "    for k in l_range:\n",
        "        for l in (l_range[0:k]+l_range[k+1:]):\n",
        "            deltas[k, l] = delta(k_list[k], k_list[l])\n",
        "        \n",
        "        big_deltas[k] = big_delta(k_list[k])\n",
        "\n",
        "    di = np.min(deltas)/np.max(big_deltas)\n",
        "    return di"
      ],
      "execution_count": 0,
      "outputs": []
    },
    {
      "cell_type": "code",
      "metadata": {
        "id": "YgHmgMZsYq8I",
        "colab_type": "code",
        "colab": {}
      },
      "source": [
        "df=pd.read_csv('/content/drive/My Drive/norm.csv')\n",
        "df = df[['Stride Length (m)', 'Cadence(steps/min)', 'Leg Length (m)',\n",
        "       'Age(years)','classs']]\n",
        "X = df[['Stride Length (m)', 'Cadence(steps/min)', 'Leg Length (m)',\n",
        "       'Age(years)']].values\n",
        "y = df.classs.values"
      ],
      "execution_count": 0,
      "outputs": []
    },
    {
      "cell_type": "code",
      "metadata": {
        "id": "rNF7XqqfYq8R",
        "colab_type": "code",
        "colab": {}
      },
      "source": [
        "from sklearn.decomposition import PCA\n",
        "pca = PCA(n_components=2)\n",
        "principalComponents = pca.fit_transform(X)\n",
        "principalDf = pd.DataFrame(data = principalComponents\n",
        "             , columns = ['principal component 1', 'principal component 2'])"
      ],
      "execution_count": 0,
      "outputs": []
    },
    {
      "cell_type": "code",
      "metadata": {
        "id": "fl7uGewdYq8X",
        "colab_type": "code",
        "colab": {}
      },
      "source": [
        "df = pd.concat([principalDf, df[['classs']]], axis = 1)"
      ],
      "execution_count": 0,
      "outputs": []
    },
    {
      "cell_type": "code",
      "metadata": {
        "id": "5k6JozlCYq8d",
        "colab_type": "code",
        "colab": {
          "base_uri": "https://localhost:8080/",
          "height": 523
        },
        "outputId": "ecbf9cd5-28e0-486b-e97b-322dc68e9e3f"
      },
      "source": [
        "import matplotlib.pyplot as plt\n",
        "\n",
        "fig = plt.figure(figsize = (8,8))\n",
        "ax = fig.add_subplot(1,1,1) \n",
        "ax.set_xlabel('Principal Component 1', fontsize = 15)\n",
        "ax.set_ylabel('Principal Component 2', fontsize = 15)\n",
        "ax.set_title('2 component PCA', fontsize = 20)\n",
        "targets = [0,1]\n",
        "colors = ['r', 'g']\n",
        "for target, color in zip(targets,colors):\n",
        "    indicesToKeep = df['classs'] == target\n",
        "    ax.scatter(df.loc[indicesToKeep, 'principal component 1']\n",
        "               , df.loc[indicesToKeep, 'principal component 2']\n",
        "               , c = color\n",
        "               , s = 50)\n",
        "ax.legend(targets)\n",
        "ax.grid()"
      ],
      "execution_count": 8,
      "outputs": [
        {
          "output_type": "display_data",
          "data": {
            "image/png": "[encoded data removed]",
            "text/plain": [
              "<Figure size 576x576 with 1 Axes>"
            ]
          },
          "metadata": {
            "tags": [],
            "needs_background": "light"
          }
        }
      ]
    },
    {
      "cell_type": "code",
      "metadata": {
        "id": "1OY-3MliYq8l",
        "colab_type": "code",
        "colab": {}
      },
      "source": [
        "def log_sum_exp(Z):\n",
        "    \"\"\" Compute log(\\sum_i exp(Z_i)) for some array Z.\"\"\"\n",
        "    return np.max(Z) + np.log(np.sum(np.exp(Z - np.max(Z))))\n",
        "\n",
        "def loglikelihood(data, weights, means, covs):\n",
        "    \"\"\" Compute the loglikelihood of the data for a Gaussian mixture model with the given parameters. \"\"\"\n",
        "    num_clusters = len(means)\n",
        "    num_dim = len(data[0])\n",
        "    \n",
        "    ll = 0\n",
        "    for d in data:\n",
        "        Z = np.zeros(num_clusters)\n",
        "        for k in range(num_clusters):\n",
        "            \n",
        "            # Compute (x-mu)^T * Sigma^{-1} * (x-mu)\n",
        "            delta = np.array(d) - means[k]\n",
        "            exponent_term = np.dot(delta.T, np.dot(np.linalg.inv(covs[k]), delta))\n",
        "            \n",
        "            # Compute loglikelihood contribution for this data point and this cluster\n",
        "            Z[k] += np.log(weights[k])\n",
        "            Z[k] -= 1/2. * (num_dim * np.log(2*np.pi) + np.log(np.linalg.det(covs[k])) + exponent_term)\n",
        "            \n",
        "        # Increment loglikelihood contribution of this data point across all clusters\n",
        "        ll += log_sum_exp(Z)\n",
        "        \n",
        "    return ll\n"
      ],
      "execution_count": 0,
      "outputs": []
    },
    {
      "cell_type": "code",
      "metadata": {
        "id": "wEHcoy6xYq8p",
        "colab_type": "code",
        "colab": {}
      },
      "source": [
        "def EM(data, init_means, init_covariances, init_weights, maxiter=1000, thresh=1e-4):\n",
        "    \n",
        "    # Make copies of initial parameters, which we will update during each iteration\n",
        "    means = init_means[:]\n",
        "    covariances = init_covariances[:]\n",
        "    weights = init_weights[:]\n",
        "    \n",
        "    # Infer dimensions of dataset and the number of clusters\n",
        "    num_data = len(data)\n",
        "    num_dim = len(data[0])\n",
        "    num_clusters = len(means)\n",
        "    \n",
        "    # Initialize some useful variables\n",
        "    resp = np.zeros((num_data, num_clusters))\n",
        "    ll = loglikelihood(data, weights, means, covariances)\n",
        "    ll_trace = [ll]\n",
        "    \n",
        "    for i in range(maxiter):\n",
        "        if i % 5 == 0:\n",
        "            print(\"Iteration %s\" % i)\n",
        "        \n",
        "        # E-step: compute responsibilities\n",
        "        # Update resp matrix so that resp[j, k] is the responsibility of cluster k for data point j.\n",
        "        # Hint: To compute likelihood of seeing data point j given cluster k, use multivariate_normal.pdf.\n",
        "        for j in range(num_data):\n",
        "            for k in range(num_clusters):\n",
        "                resp[j, k] =  weights[k] * multivariate_normal.pdf(data[j], mean=means[k], cov=covariances[k])\n",
        "        row_sums = resp.sum(axis=1)[:, np.newaxis]\n",
        "        resp = resp / row_sums # normalize over all possible cluster assignments\n",
        "\n",
        "        # M-step\n",
        "        # Compute the total responsibility assigned to each cluster, which will be useful when \n",
        "        # implementing M-steps below. In the lectures this is called N^{soft}\n",
        "        counts = np.sum(resp, axis=0)\n",
        "        \n",
        "        for k in range(num_clusters):\n",
        "            \n",
        "            # Update the weight for cluster k using the M-step update rule for the cluster weight, \\hat{\\pi}_k.\n",
        "            weights[k] = counts[k]\n",
        "            \n",
        "            # Update means for cluster k using the M-step update rule for the mean variables.\n",
        "            # This will assign the variable means[k] to be our estimate for \\hat{\\mu}_k.\n",
        "            \n",
        "            weighted_sum = 0\n",
        "            for j in range(num_data):\n",
        "                weighted_sum += data[j] * resp[j,k]\n",
        "            means[k] = weighted_sum / weights[k]\n",
        "            \n",
        "            # Update covariances for cluster k using the M-step update rule for covariance variables.\n",
        "            # This will assign the variable covariances[k] to be the estimate for \\hat{\\Sigma}_k.\n",
        "            weighted_sum = np.zeros((num_dim, num_dim))\n",
        "            for j in range(num_data):\n",
        "                #(Hint: Use np.outer on the data[j] and this cluster's mean)\n",
        "                weighted_sum += np.outer(data[j] - means[k],data[j] - means[k]) * resp[j,k]\n",
        "\n",
        "            covariances[k] = weighted_sum / weights[k]\n",
        "\n",
        "        \n",
        "        \n",
        "        # Compute the loglikelihood at this iteration\n",
        "        ll_latest = loglikelihood(data, weights, means, covariances)\n",
        "        ll_trace.append(ll_latest)\n",
        "        \n",
        "        # Check for convergence in log-likelihood and store\n",
        "        if (ll_latest - ll) < thresh and ll_latest > -np.inf:\n",
        "            break\n",
        "        ll = ll_latest\n",
        "    \n",
        "    if i % 5 != 0:\n",
        "        print(\"Iteration %s\" % i)\n",
        "    weights = weights / sum(weights)\n",
        "    out = {'weights': weights, 'means': means, 'covs': covariances, 'loglik': ll_trace, 'resp': resp}\n",
        "\n",
        "    return out"
      ],
      "execution_count": 0,
      "outputs": []
    },
    {
      "cell_type": "code",
      "metadata": {
        "id": "pL82j6cyYq8u",
        "colab_type": "code",
        "colab": {}
      },
      "source": [
        "data = df.drop(columns=['classs']).values"
      ],
      "execution_count": 0,
      "outputs": []
    },
    {
      "cell_type": "code",
      "metadata": {
        "id": "td7sFCLNYq8y",
        "colab_type": "code",
        "colab": {
          "base_uri": "https://localhost:8080/",
          "height": 202
        },
        "outputId": "4be20cd6-6d2e-4fdb-967b-eb43f8b4c78d"
      },
      "source": [
        "np.random.seed(4)\n",
        "\n",
        "# Initialization of parameters\n",
        "chosen = np.random.choice(len(data), 2, replace=False)\n",
        "initial_means = [data[x] for x in chosen]\n",
        "initial_covs = [np.cov(data, rowvar=0)] * 2\n",
        "initial_weights = [1/3.] * 2\n",
        "# Run EM \n",
        "out = EM(data, initial_means, initial_covs, initial_weights)"
      ],
      "execution_count": 12,
      "outputs": [
        {
          "output_type": "stream",
          "text": [
            "Iteration 0\n",
            "Iteration 5\n",
            "Iteration 10\n",
            "Iteration 15\n",
            "Iteration 20\n",
            "Iteration 25\n",
            "Iteration 30\n",
            "Iteration 35\n",
            "Iteration 40\n",
            "Iteration 45\n"
          ],
          "name": "stdout"
        }
      ]
    },
    {
      "cell_type": "code",
      "metadata": {
        "id": "j-jC8fU3Yq84",
        "colab_type": "code",
        "colab": {
          "base_uri": "https://localhost:8080/",
          "height": 35
        },
        "outputId": "b819a48d-fb18-488f-ab11-b36264fd472a"
      },
      "source": [
        "out['means']"
      ],
      "execution_count": 13,
      "outputs": [
        {
          "output_type": "execute_result",
          "data": {
            "text/plain": [
              "[array([-2.35929388, -0.47533202]), array([13.61733422,  2.74351365])]"
            ]
          },
          "metadata": {
            "tags": []
          },
          "execution_count": 13
        }
      ]
    },
    {
      "cell_type": "code",
      "metadata": {
        "id": "7JDnBoUqYq88",
        "colab_type": "code",
        "colab": {}
      },
      "source": [
        "means = out['means']\n",
        "covariances = out['covs']\n",
        "rgb = data\n",
        "N = len(data)\n",
        "K = len(means)\n",
        "\n",
        "assignments = [0]*N\n",
        "probs = [0]*N\n",
        "\n",
        "for i in range(N):\n",
        "    # Compute the score of data point i under each Gaussian component:\n",
        "    p = np.zeros(K)\n",
        "    for k in range(K):\n",
        "        p[k] = multivariate_normal.pdf(rgb[i], mean=means[k], cov=covariances[k])\n",
        "        \n",
        "    # Compute assignments of each data point to a given cluster based on the above scores:\n",
        "    assignments[i] = np.argmax(p)\n",
        "    \n",
        "    # For data point i, store the corresponding score under this cluster assignment:\n",
        "    probs[i] = p[assignments[i]]\n",
        "\n",
        "assignment = pd.DataFrame({'assignments':assignments, 'probs':probs})"
      ],
      "execution_count": 0,
      "outputs": []
    },
    {
      "cell_type": "code",
      "metadata": {
        "id": "g8CDbEhPYq9B",
        "colab_type": "code",
        "colab": {
          "base_uri": "https://localhost:8080/",
          "height": 35
        },
        "outputId": "a5fbf719-ddc8-451b-fbc3-b064bbfdf965"
      },
      "source": [
        "print(purity_score(y,assignments))"
      ],
      "execution_count": 15,
      "outputs": [
        {
          "output_type": "stream",
          "text": [
            "0.5769230769230769\n"
          ],
          "name": "stdout"
        }
      ]
    },
    {
      "cell_type": "code",
      "metadata": {
        "id": "iUKNSPLNYq9F",
        "colab_type": "code",
        "colab": {
          "base_uri": "https://localhost:8080/",
          "height": 35
        },
        "outputId": "02d71e5f-77c5-4680-9e16-63fbd4c19b32"
      },
      "source": [
        "dunn(out['means'])"
      ],
      "execution_count": 16,
      "outputs": [
        {
          "output_type": "execute_result",
          "data": {
            "text/plain": [
              "0.2960179132385201"
            ]
          },
          "metadata": {
            "tags": []
          },
          "execution_count": 16
        }
      ]
    },
    {
      "cell_type": "code",
      "metadata": {
        "id": "H2b5V2WQYq9K",
        "colab_type": "code",
        "colab": {}
      },
      "source": [
        "assignments = np.array(assignments)"
      ],
      "execution_count": 0,
      "outputs": []
    },
    {
      "cell_type": "code",
      "metadata": {
        "id": "FD5YZPxAYq9O",
        "colab_type": "code",
        "colab": {
          "base_uri": "https://localhost:8080/",
          "height": 35
        },
        "outputId": "3fdcab5e-268a-46f1-e097-08f38f0e03a9"
      },
      "source": [
        "print(\"Silhouette Coefficient : %0.3f\"\n",
        "      % silhouette_score(data,assignments, metric='euclidean'))"
      ],
      "execution_count": 18,
      "outputs": [
        {
          "output_type": "stream",
          "text": [
            "Silhouette Coefficient : 0.304\n"
          ],
          "name": "stdout"
        }
      ]
    }
  ]
}