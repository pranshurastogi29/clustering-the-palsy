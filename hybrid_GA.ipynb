{
  "nbformat": 4,
  "nbformat_minor": 0,
  "metadata": {
    "colab": {
      "name": "hybrid GA.ipynb",
      "provenance": [],
      "collapsed_sections": [],
      "mount_file_id": "1Pk2GL8xDw_bKy8Q8JmX9_PWgb_GYTfZz",
      "authorship_tag": "ABX9TyOPmPcVKKKbPo33Hqeh7PLO",
      "include_colab_link": true
    },
    "kernelspec": {
      "name": "python3",
      "display_name": "Python 3"
    }
  },
  "cells": [
    {
      "cell_type": "markdown",
      "metadata": {
        "id": "view-in-github",
        "colab_type": "text"
      },
      "source": [
        "<a href=\"https://colab.research.google.com/github/pranshurastogi29/clustering-the-palsy/blob/master/hybrid_GA.ipynb\" target=\"_parent\"><img src=\"https://colab.research.google.com/assets/colab-badge.svg\" alt=\"Open In Colab\"/></a>"
      ]
    },
    {
      "cell_type": "code",
      "metadata": {
        "id": "PRdBHKy66g3J",
        "colab_type": "code",
        "colab": {}
      },
      "source": [
        "import numpy as np\n",
        "from scipy.linalg import norm\n",
        "from scipy.spatial.distance import cdist\n",
        "\n",
        "class FCM:\n",
        "    \"\"\"Fuzzy C-means\n",
        "    \n",
        "    m: float, optional (default=2.0)\n",
        "        Exponent for the fuzzy partition matrix, specified as a\n",
        "        scalar greater than 1.0. This option controls the amount of\n",
        "        fuzzy overlap between clusters, with larger values indicating\n",
        "        a greater degree of overlap.\n",
        "    \n",
        "    u: array, shape = [n_samples, n_clusters]\n",
        "        Fuzzy partition array, returned as an array with n_samples rows\n",
        "        and n_clusters columns. Element u[i,j] indicates the degree of\n",
        "        membership of the jth data point in the ith cluster. For a given\n",
        "        data point, the sum of the membership values for all clusters is one.\n",
        "    \n",
        "    \"\"\"\n",
        "    def __init__(self, n_clusters=10, max_iter=150, m=2, error=1e-5, random_state=0):\n",
        "        assert m > 1\n",
        "        self.u, self.centers = None, None\n",
        "        self.n_clusters = n_clusters\n",
        "        self.max_iter = max_iter\n",
        "        self.m = m\n",
        "        self.error = error\n",
        "        self.random_state = random_state\n",
        "\n",
        "    def fit(self, X):\n",
        "        \n",
        "        self.n_samples = X.shape[0]\n",
        "        r = np.random.RandomState(self.random_state)\n",
        "        u = r.rand(self.n_samples, self.n_clusters)\n",
        "        u = u / np.tile(u.sum(axis=1)[np.newaxis].T, self.n_clusters)\n",
        "\n",
        "        r = np.random.RandomState(self.random_state)\n",
        "        self.u = r.rand(self.n_samples,self.n_clusters)\n",
        "        self.u = self.u / np.tile(self.u.sum(axis=1)[np.newaxis].T, self.n_clusters)\n",
        "\n",
        "        for iteration in range(self.max_iter):\n",
        "            u_old = self.u.copy()\n",
        "\n",
        "            self.centers = self.next_centers(X)\n",
        "            self.u = self._predict(X)\n",
        "\n",
        "            if norm(self.u - u_old) < self.error:\n",
        "                break\n",
        "\n",
        "\n",
        "    def next_centers(self, X):\n",
        "        \n",
        "        um = self.u ** self.m\n",
        "        return (X.T @ um / np.sum(um, axis=0)).T\n",
        "\n",
        "    def _predict(self, X):\n",
        "        \n",
        "        power = float(2 / (self.m - 1))\n",
        "        temp = cdist(X, self.centers) ** power\n",
        "        denominator_ = temp.reshape((X.shape[0], 1, -1)).repeat(temp.shape[-1], axis=1)\n",
        "        denominator_ = temp[:, :, np.newaxis] / denominator_\n",
        "\n",
        "        return 1 / denominator_.sum(2)\n",
        "\n",
        "    def predict(self, X):\n",
        "\n",
        "        if len(X.shape) == 1:\n",
        "            X = np.expand_dims(X, axis=0)\n",
        "\n",
        "        u = self._predict(X)\n",
        "        return np.argmax(u, axis=-1)"
      ],
      "execution_count": 0,
      "outputs": []
    },
    {
      "cell_type": "code",
      "metadata": {
        "id": "wMP1Im8x6sNw",
        "colab_type": "code",
        "colab": {}
      },
      "source": [
        "from sklearn.metrics.pairwise import euclidean_distances\n",
        "\n",
        "def delta(ck, cl):\n",
        "    values = np.ones([len(ck), len(cl)])*10000\n",
        "    \n",
        "    for i in range(0, len(ck)):\n",
        "        for j in range(0, len(cl)):\n",
        "            values[i, j] = np.linalg.norm(ck[i]-cl[j])\n",
        "            \n",
        "    return np.min(values)\n",
        "    \n",
        "def big_delta(ci):\n",
        "    values = np.zeros([len(ci), len(ci)])\n",
        "    \n",
        "    for i in range(0, len(ci)):\n",
        "        for j in range(0, len(ci)):\n",
        "            values[i, j] = np.linalg.norm(ci[i]-ci[j])\n",
        "            \n",
        "    return np.max(values)\n",
        "    \n",
        "def dunn(k_list):\n",
        "    \n",
        "    deltas = np.ones([len(k_list), len(k_list)])*1000000\n",
        "    big_deltas = np.zeros([len(k_list), 1])\n",
        "    l_range = list(range(0, len(k_list)))\n",
        "    \n",
        "    for k in l_range:\n",
        "        for l in (l_range[0:k]+l_range[k+1:]):\n",
        "            deltas[k, l] = delta(k_list[k], k_list[l])\n",
        "        \n",
        "        big_deltas[k] = big_delta(k_list[k])\n",
        "\n",
        "    di = np.min(deltas)/np.max(big_deltas)\n",
        "    return di"
      ],
      "execution_count": 0,
      "outputs": []
    },
    {
      "cell_type": "code",
      "metadata": {
        "id": "Ejs04Gj06vqf",
        "colab_type": "code",
        "colab": {}
      },
      "source": [
        "class KMeans:\n",
        "\n",
        "    def __init__(\n",
        "            self,\n",
        "            n_cluster: int,\n",
        "            init_pp: bool = True,\n",
        "            max_iter: int = 300,\n",
        "            tolerance: float = 1e-4,\n",
        "            seed: int = None):\n",
        "        \n",
        "        self.n_cluster = n_cluster\n",
        "        self.max_iter = max_iter\n",
        "        self.tolerance = tolerance\n",
        "        self.init_pp = init_pp\n",
        "        self.seed = seed\n",
        "        self.centroid = None\n",
        "        self.mse = None\n",
        "\n",
        "    def fit(self, data: np.ndarray):\n",
        "        \n",
        "        self.centroid = self._init_centroid(data)\n",
        "        for _ in range(self.max_iter):\n",
        "            distance = self._calc_distance(data)\n",
        "            cluster = self._assign_cluster(distance)\n",
        "            new_centroid = self._update_centroid(data, cluster)\n",
        "            diff = np.abs(self.centroid - new_centroid).mean()\n",
        "            self.centroid = new_centroid\n",
        "\n",
        "            if diff <= self.tolerance:\n",
        "                break\n",
        "\n",
        "        self.mse = calc_mse(self.centroid, cluster, data)\n",
        "\n",
        "    def predict(self, data: np.ndarray):\n",
        "\n",
        "        distance = self._calc_distance(data)\n",
        "        cluster = self._assign_cluster(distance)\n",
        "        return cluster\n",
        "\n",
        "    def _init_centroid(self, data: np.ndarray):\n",
        "        \n",
        "        if self.init_pp:\n",
        "            np.random.seed(self.seed)\n",
        "            centroid = [int(np.random.uniform()*len(data))]\n",
        "            for _ in range(1, self.n_cluster):\n",
        "                dist = []\n",
        "                dist = [min([np.inner(data[c]-x, data[c]-x) for c in centroid])\n",
        "                        for i, x in enumerate(data)]\n",
        "                dist = np.array(dist)\n",
        "                dist = dist / dist.sum()\n",
        "                cumdist = np.cumsum(dist)\n",
        "\n",
        "                prob = np.random.rand()\n",
        "                for i, c in enumerate(cumdist):\n",
        "                    if prob > c and i not in centroid:\n",
        "                        centroid.append(i)\n",
        "                        break\n",
        "            centroid = np.array([data[c] for c in centroid])\n",
        "        else:\n",
        "            np.random.seed(self.seed)\n",
        "            idx = np.random.choice(range(len(data)), size=(self.n_cluster))\n",
        "            centroid = data[idx]\n",
        "        return centroid\n",
        "\n",
        "    def _calc_distance(self, data: np.ndarray):\n",
        "        distances = []\n",
        "        for c in self.centroid:\n",
        "            distance = np.mean((data - c) * (data - c), axis=1)\n",
        "            distances.append(distance)\n",
        "\n",
        "        distances = np.array(distances)\n",
        "        distances = distances.T\n",
        "        return distances\n",
        "\n",
        "    def _assign_cluster(self, distance: np.ndarray):\n",
        "        cluster = np.argmin(distance, axis=1)\n",
        "        return cluster\n",
        "\n",
        "    def _update_centroid(self, data: np.ndarray, cluster: np.ndarray):\n",
        "        centroids = []\n",
        "        for i in range(self.n_cluster):\n",
        "            idx = np.where(cluster == i)\n",
        "            centroid = np.mean(data[idx], axis=0)\n",
        "            centroids.append(centroid)\n",
        "        centroids = np.array(centroids)\n",
        "        return centroids"
      ],
      "execution_count": 0,
      "outputs": []
    },
    {
      "cell_type": "code",
      "metadata": {
        "id": "npUSTi5rtdG7",
        "colab_type": "code",
        "colab": {}
      },
      "source": [
        "import random\n",
        "\n",
        "class Chromosome:\n",
        "    def __init__(self, genes, length):\n",
        "        self.genes = genes\n",
        "        self.length = length\n",
        "        self.fitness = 0\n",
        "\n",
        "    def randomGenerateChromosome(self):\n",
        "        for i in range(0, self.length, +1):\n",
        "            gen = float('%.2f' % random.uniform(0.0, 1.0))\n",
        "            self.genes.append(gen)\n",
        "\n",
        "        return self\n",
        "        \n",
        "class Generation:\n",
        "    def __init__(self, numberOfIndividual, generationCount):\n",
        "        self.numberOfIndividual = numberOfIndividual\n",
        "        self.chromosomes = []\n",
        "        self.generationCount = generationCount\n",
        "\n",
        "    def sortChromosomes(self):\n",
        "        self.chromosomes = sorted(\n",
        "            self.chromosomes, reverse=True, key=lambda elem: elem.fitness)\n",
        "        return self.chromosomes\n",
        "\n",
        "    def randomGenerateChromosomes(self, lengthOfChromosome):\n",
        "        for i in range(0, self.numberOfIndividual):\n",
        "            chromosome = Chromosome([], lengthOfChromosome)\n",
        "            chromosome.randomGenerateChromosome()\n",
        "            self.chromosomes.append(chromosome)"
      ],
      "execution_count": 0,
      "outputs": []
    },
    {
      "cell_type": "code",
      "metadata": {
        "id": "NYYr55V_68GD",
        "colab_type": "code",
        "colab": {}
      },
      "source": [
        "def calc_mse(centroids: np.ndarray, labels: np.ndarray, data: np.ndarray):\n",
        "    distances = []\n",
        "    for i, c in enumerate(centroids):\n",
        "        idx = np.where(labels == i)\n",
        "        dist = np.mean((data[idx] - c)**2)\n",
        "        distances.append(dist)\n",
        "    return np.mean(distances)\n",
        "from sklearn import metrics\n",
        "def purity_score(y_true, y_pred):\n",
        "    # compute contingency matrix (also called confusion matrix)\n",
        "    contingency_matrix = metrics.cluster.contingency_matrix(y_true, y_pred)\n",
        "    # return purity\n",
        "    return np.sum(np.amax(contingency_matrix, axis=0)) / np.sum(contingency_matrix) "
      ],
      "execution_count": 0,
      "outputs": []
    },
    {
      "cell_type": "code",
      "metadata": {
        "id": "Fh92OEIYtvPT",
        "colab_type": "code",
        "colab": {}
      },
      "source": [
        "class Genetic:\n",
        "    def __init__(self, numberOfIndividual, Ps, Pm, Pc, budget, data, generationCount, kmax,labels):\n",
        "        self.numberOfIndividual = numberOfIndividual\n",
        "        self.Ps = Ps\n",
        "        self.Pm = Pm\n",
        "        self.Pc = Pc\n",
        "        self.budget = budget\n",
        "        self.data = data\n",
        "        self.generationCount = generationCount\n",
        "        self.kmax = kmax\n",
        "        self.labels = labels\n",
        "\n",
        "    def geneticProcess(self, generation):\n",
        "        budget = self.budget\n",
        "        Ps = self.Ps\n",
        "        Pm = self.Pm\n",
        "        Pc = self.Pc\n",
        "        numOfInd = self.numberOfIndividual\n",
        "\n",
        "        print(\"------------Generation:\",\n",
        "              self.generationCount, \"-----------------\")\n",
        "        generation.sortChromosomes()\n",
        "\n",
        "        # ------------------------simple ranking selection------------------------\n",
        "\n",
        "        generation = self.selection(generation)\n",
        "\n",
        "        #  ------------------------------Crossover---------------------------------\n",
        "\n",
        "        generation = self.crossover(generation)\n",
        "\n",
        "        #  ------------------------------Mutation---------------------------------\n",
        "\n",
        "        generation = self.mutation(generation)\n",
        "\n",
        "        self.generationCount += 1\n",
        "        return generation, self.generationCount\n",
        "\n",
        "    def selection(self, generation):\n",
        "        numOfInd = self.numberOfIndividual\n",
        "        Ps = self.Ps\n",
        "\n",
        "        # replace the worst Ps*numOfInd individual with the best Ps*numOfInd individual\n",
        "        for i in range(0, int(Ps * numOfInd)):\n",
        "            generation.chromosomes[numOfInd -\n",
        "                                   1 - i] = generation.chromosomes[i]\n",
        "\n",
        "        # sort chromosomes after ranking selection\n",
        "        generation.sortChromosomes()\n",
        "        return generation\n",
        "\n",
        "    def crossover(self, generation):\n",
        "        numOfInd = self.numberOfIndividual\n",
        "        Pc = self.Pc\n",
        "\n",
        "        index = random.sample(\n",
        "            range(0, numOfInd - 1), int(Pc * numOfInd))\n",
        "\n",
        "        for i in range(int(len(index) / 2),+2):  # do how many time\n",
        "            generation = self.doCrossover(\n",
        "                generation, i, index)\n",
        "\n",
        "        generation.sortChromosomes()\n",
        "\n",
        "        return generation\n",
        "\n",
        "    def doCrossover(self, generation, i, index):\n",
        "\n",
        "        chromo = generation.chromosomes\n",
        "        length = chromo[0].length\n",
        "        cut = random.randint(1, length - 1)\n",
        "        parent1 = chromo[index[i]]\n",
        "        parent2 = chromo[index[i + 1]]\n",
        "        genesChild1 = parent1.genes[0:cut] + parent2.genes[cut:length]\n",
        "        genesChild2 = parent1.genes[cut:length] + parent2.genes[0:cut]\n",
        "        child1 = Chromosome(genesChild1, len(genesChild1))\n",
        "        child2 = Chromosome(genesChild2, len(genesChild2))\n",
        "\n",
        "        # ----clustering----\n",
        "        clustering = Clustering(generation, self.data, self.kmax,labels = self.labels)\n",
        "        child1 = clustering.calcChildFit(child1)\n",
        "        child2 = clustering.calcChildFit(child2)\n",
        "        # -------------------\n",
        "\n",
        "        listA = []\n",
        "        listA.append(parent1)\n",
        "        listA.append(parent2)\n",
        "        listA.append(child1)\n",
        "        listA.append(child2)\n",
        "        # sort parent and child by fitness / dec\n",
        "        listA = sorted(listA, reverse=True,\n",
        "                       key=lambda elem: elem.fitness)\n",
        "\n",
        "        generation.chromosomes[index[i]] = listA[0]\n",
        "        generation.chromosomes[index[i + 1]] = listA[1]\n",
        "\n",
        "        return generation\n",
        "\n",
        "    def mutation(self, generation):\n",
        "        numOfInd = self.numberOfIndividual\n",
        "        fitnessList = []\n",
        "        generationAfterM = Generation(numOfInd, generation.generationCount)\n",
        "        flagMutation = (np.zeros(numOfInd)).tolist()\n",
        "\n",
        "        for i in range(numOfInd):\n",
        "            temp = generation.chromosomes[i]\n",
        "            fitnessList.append(temp.fitness)\n",
        "\n",
        "        for i in range(numOfInd):\n",
        "            if i == 0:  # Ibest doesn't need mutation\n",
        "                generationAfterM.chromosomes.append(generation.chromosomes[0])\n",
        "                flagMutation[0] = 0\n",
        "            else:\n",
        "                generationAfterM = self.doMutation(\n",
        "                    generation.chromosomes[i],\tgenerationAfterM, flagMutation, fitnessList, i)\n",
        "\n",
        "        generationAfterM.sortChromosomes()\n",
        "        return generationAfterM\n",
        "\n",
        "    def doMutation(self, chromosomeBeforeM, generationAfterM, flagMutation, fitnessList, i):\n",
        "        Pm = self.Pm\n",
        "        dice = []\n",
        "        length = len(chromosomeBeforeM.genes)\n",
        "        chromosome = Chromosome([], length)\n",
        "        geneFlag = []\n",
        "\n",
        "        for j in range(length):\n",
        "            dice.append(float('%.2f' % random.uniform(0.0, 1.0)))\n",
        "            if dice[j] > Pm:\n",
        "                chromosome.genes.append(chromosomeBeforeM.genes[j])\n",
        "                geneFlag.append(0)\n",
        "\n",
        "            if dice[j] <= Pm:\n",
        "                chromosome.genes.append(\n",
        "                    float('%.2f' % random.uniform(0.0, 1.0)))\n",
        "                geneFlag.append(1)\n",
        "\n",
        "        check = sum(geneFlag)\n",
        "\n",
        "        if check == 0:\n",
        "            flagMutation[i] = 0\n",
        "            chromosome.fitness = fitnessList[i]\n",
        "        else:\n",
        "            flagMutation[i] = 1\n",
        "\n",
        "            #---clustering----\n",
        "            clustering = Clustering(chromosomeBeforeM, self.data, self.kmax,labels = self.labels)\n",
        "            chromosome = clustering.calcChildFit(\n",
        "                chromosome)\n",
        "            #------------------\n",
        "\n",
        "        generationAfterM.chromosomes.append(chromosome)\n",
        "        return generationAfterM"
      ],
      "execution_count": 0,
      "outputs": []
    },
    {
      "cell_type": "code",
      "metadata": {
        "id": "KW_4Tu7er4K3",
        "colab_type": "code",
        "colab": {}
      },
      "source": [
        "import pandas as pd\n",
        "import math\n",
        "import json\n",
        "import numpy as np\n",
        "\n",
        "pd.options.mode.chained_assignment = None\n",
        "\n",
        "class Point:\n",
        "    def __init__(self, pattern_id):\n",
        "        self.length = len(pattern_id)\n",
        "        self.pattern_id = pattern_id\n",
        "        self.z = -1\n",
        "\n",
        "    def __str__(self):\n",
        "        return str(self.pattern_id)\n",
        "\n",
        "    def toJSON(self):\n",
        "        return {\n",
        "            'pattern_id':self.pattern_id\n",
        "        }\n",
        "\n",
        "\n",
        "class Cluster:\n",
        "    def __init__(self, dim, centroid):\n",
        "        self.dim = dim\n",
        "        self.centroid = centroid\n",
        "        self.points = []\n",
        "        self.distances = []\n",
        "\n",
        "    # this method finds the average distance of all elements in cluster to its centroid\n",
        "    def computeS(self):\n",
        "        n = len(self.points)\n",
        "        if n == 0:\n",
        "            return 0\n",
        "        s = 0\n",
        "        for x in self.distances:\n",
        "            s += x\n",
        "        return float(s / n)\n",
        "\n",
        "from sklearn.metrics import silhouette_score\n",
        "class Clustering:\n",
        "    def __init__(self, generation, data, kmax,labels):\n",
        "        self.generation = generation\n",
        "        self.data = data\n",
        "        self.dim = data.shape[1]\n",
        "        self.penalty = 1000000\n",
        "        self.kmax = kmax\n",
        "        self.labels = labels\n",
        "\n",
        "    def daviesBouldin(self, clusters):\n",
        "        sigmaR = 0.0\n",
        "        nc = len(clusters)\n",
        "        for i in range(nc):\n",
        "            sigmaR = sigmaR + self.computeR(clusters)\n",
        "            #print(sigmaR)\n",
        "        DBIndex = float(sigmaR) / float(nc)\n",
        "        return DBIndex\n",
        "\n",
        "    def computeR(self, clusters):\n",
        "        listR = []\n",
        "        for i, iCluster in enumerate(clusters):\n",
        "            for j, jCluster in enumerate(clusters):\n",
        "                if(i != j):\n",
        "                    temp = self.computeRij(iCluster, jCluster)\n",
        "                    listR.append(temp)\n",
        "        return max(listR)\n",
        "\n",
        "    def computeRij(self, iCluster, jCluster):\n",
        "        Rij = 0\n",
        "    \n",
        "        d = self.euclidianDistance(\n",
        "            iCluster.centroid, jCluster.centroid)\n",
        "        #print(\"d\",d)\n",
        "        #print(\"icluster\",iCluster.computeS())\n",
        "        Rij = (iCluster.computeS() + jCluster.computeS()) / d\n",
        "       \n",
        "        #print(\"Rij:\", Rij)\n",
        "        return Rij\n",
        "\n",
        "    def euclidianDistance(self, point1, point2):\n",
        "        sum = 0\n",
        "        for i in range(0, point1.length):\n",
        "            square = pow(\n",
        "                point1.pattern_id[i] - point2.pattern_id[i], 2)\n",
        "            sum += square\n",
        "\n",
        "        sqr = math.sqrt(sum)\n",
        "        return sqr\n",
        "\n",
        "    def calcDistance(self, clusters):\n",
        "        kmax = self.kmax\n",
        "        dim = self.dim\n",
        "        data = self.data\n",
        "        dis = 0\n",
        "        disSet = []\n",
        "\n",
        "        for z in range(data.shape[0]):\n",
        "            point = Point(data.loc[z][0:dim])\n",
        "            point.z = z\n",
        "\n",
        "            for i in range(kmax):\n",
        "                dis = self.euclidianDistance(clusters[i].centroid, point)\n",
        "                disSet.append(dis)\n",
        "                dis = 0\n",
        "\n",
        "            clusters = self.findMin(\n",
        "                disSet, clusters, point)\n",
        "            disSet = []  # clear disSet\t# calculate distance\n",
        "\n",
        "        return clusters\n",
        "\n",
        "    def findMin(self, disSet, clusters, point):\n",
        "        n = disSet.index(min(disSet))  # n is index\n",
        "        minDis = disSet[n]\n",
        "        clusters[n].points.append(point)\n",
        "        clusters[n].distances.append(minDis)\n",
        "\n",
        "        return clusters\n",
        "\n",
        "    # childChromosome, kmax\n",
        "    def calcChildFit(self, childChromosome):\n",
        "        kmax = self.kmax\n",
        "        dim = self.dim\n",
        "        clusters = []\n",
        "        for j in range(kmax):\n",
        "            point = Point(childChromosome.genes[j * dim: (j + 1) * dim])\n",
        "            clusters.append(Cluster(dim, point))\n",
        "\n",
        "        clusters = self.calcDistance(clusters)\n",
        "        DBIndex = self.daviesBouldin(clusters)\n",
        "\n",
        "        childChromosome.fitness = 1 / DBIndex\n",
        "\n",
        "        return childChromosome\n",
        "\n",
        "    def calcChromosomesFit(self):\n",
        "        kmax = self.kmax\n",
        "        generation = self.generation\n",
        "        numOfInd = generation.numberOfIndividual\n",
        "        data = self.data\n",
        "        chromo = generation.chromosomes\n",
        "\n",
        "        for i in range(0, numOfInd):\n",
        "\n",
        "            dim = self.dim\n",
        "            clusters = []\n",
        "            for j in range(kmax):\n",
        "                point = Point(chromo[i].genes[j * dim: (j + 1) * dim])\n",
        "                clusters.append(Cluster(dim, point))\n",
        "\n",
        "\n",
        "            clusters = self.calcDistance(clusters)\n",
        "            DBIndex = self.daviesBouldin(clusters)\n",
        "            generation.chromosomes[i].fitness = 1 / DBIndex\n",
        "\n",
        "        return generation\n",
        "\n",
        "    def printIBest(self, iBest):\n",
        "        kmax = self.kmax\n",
        "        dim = self.dim\n",
        "        clusters = []\n",
        "        for j in range(kmax):\n",
        "            point = Point(iBest.genes[j * dim: (j + 1) * dim])\n",
        "            clusters.append(Cluster(dim, point))\n",
        "        clusters = self.calcDistance(clusters)\n",
        "        DBIndex = self.daviesBouldin(clusters)\n",
        "        z = (np.zeros(156)).tolist()\n",
        "        for i, cluster in enumerate(clusters):\n",
        "            for j in cluster.points:\n",
        "                z[j.z] = i\n",
        "\n",
        "        print(\"predicted :\", z)\n",
        "        print(\"iBest Fitness:\", 1 / DBIndex)\n",
        "        try:\n",
        "          print(\"Silhouette Coefficient : %0.3f\"\n",
        "          % silhouette_score(self.data.values,z, metric='euclidean'))\n",
        "        except :\n",
        "          pass\n",
        "        cls = []\n",
        "        for i, cluster in enumerate(clusters):\n",
        "            print(\"centroid\", i, \" :\", cluster.centroid)\n",
        "            cls.append(list(cluster.centroid.toJSON().values()))\n",
        "        print('mse : %0.3f' % calc_mse(centroids=np.array(cls), data=self.data.values, labels=self.labels))\n",
        "        print('purity : %0.3f' % purity_score(self.labels,z))\n",
        "        try:\n",
        "          cls = []\n",
        "          for i, cluster in enumerate(clusters):\n",
        "            cls.append(np.array(list(cluster.centroid.toJSON().values())))\n",
        "          print('dunn : %0.3f' % dunn(cls))\n",
        "        except :\n",
        "          pass\n",
        "\n",
        "        #print(\"accuracy :\", accuracy)\n",
        "        #print(\"iBest Fitness:\", 1 / DBIndex)\n",
        "        #print(\"all index:\", z)\n",
        "        #print(\"Clusters centroid:\")\n",
        "        #for i, cluster in enumerate(clusters):\n",
        "            #print(\"centroid\", i, \" :\", cluster.centroid)\n",
        "\n",
        "    def output_result(self, iBest, data):\n",
        "        print(\"Saving the result...\")\n",
        "        kmax = self.kmax\n",
        "        dim = self.dim\n",
        "        clusters = []\n",
        "        for j in range(kmax):\n",
        "            point = Point(iBest.genes[j * dim: (j + 1) * dim])\n",
        "            clusters.append(Cluster(dim, point))\n",
        "\n",
        "        clusters = self.calcDistance(clusters)\n",
        "        centroids = []\n",
        "        for i in range(kmax):\n",
        "            centroids.append(clusters[i].centroid)\n",
        "        z = (np.zeros(156)).tolist()\n",
        "        for i, cluster in enumerate(clusters):\n",
        "            for j in cluster.points:\n",
        "                z[j.z] = i\n",
        "\n",
        "        with open('cluster_center.json', 'w') as outfile:\n",
        "            json.dump([e.toJSON() for e in centroids], outfile, sort_keys=True,\n",
        "                      indent=4, separators=(',', ': '))\n",
        "\n",
        "        # rename df header\n",
        "        col_name = list()\n",
        "        for i in range(data.shape[1]):\n",
        "            col_name.append(\"f{0}\".format(i))\n",
        "        data.columns = col_name\n",
        "\n",
        "        # insert cluster result\n",
        "        data['Cluster Index'] = pd.Series(z, index=data.index)\n",
        "        data.to_csv('result.csv', index=None)"
      ],
      "execution_count": 0,
      "outputs": []
    },
    {
      "cell_type": "code",
      "metadata": {
        "id": "CQ2yHukstyLV",
        "colab_type": "code",
        "outputId": "08a90d64-3334-42f7-80ad-96eece3536f4",
        "colab": {
          "base_uri": "https://localhost:8080/",
          "height": 1000
        }
      },
      "source": [
        "from sklearn.preprocessing import MinMaxScaler\n",
        "NORMALIZATION = True\n",
        "\n",
        "\n",
        "def readVars():\n",
        "    budget = 25\n",
        "    kmax = 2  # Maximum number of Clusters\n",
        "    numOfInd = 20  # number of individual\n",
        "    Ps = .2\n",
        "    Pm = .8\n",
        "    Pc = .2\n",
        "\n",
        "    return budget, kmax, Ps, Pm, Pc, numOfInd\n",
        "\n",
        "\n",
        "data = pd.read_csv('/content/drive/My Drive/norm.csv')\n",
        "labels = data['classs'].values\n",
        "data = data[['Stride Length (m)','Cadence(steps/min)','Leg Length (m)','Age(years)']]\n",
        "if(NORMALIZATION):\n",
        "  data =   MinMaxScaler().fit_transform(data)# normalize\n",
        "  data = pd.DataFrame(data)\n",
        "else:\n",
        "  data = data\n",
        "# size of column\n",
        "dim = data.shape[1]\n",
        "\n",
        "# kmeans parameters & GA parameters\n",
        "generationCount = 0\n",
        "budget, kmax, Ps, Pm, Pc, numOfInd = readVars()\n",
        "\n",
        "print(\"-------------GA Info-------------------\")\n",
        "print(\"budget\", budget)\n",
        "print(\"kmax\", kmax)\n",
        "print(\"numOfInd\", numOfInd)\n",
        "print(\"Ps\", Ps)\n",
        "print(\"Pm\", Pm)\n",
        "print(\"Pc\", Pc)\n",
        "print(\"---------------------------------------\")\n",
        "\n",
        "# dim or pattern id \n",
        "chromosome_length = kmax * dim\n",
        "\n",
        "#-------------------------------------------------------#\n",
        "# \t\t\t\t\t\t\tmain \t\t\t\t\t\t#\n",
        "#-------------------------------------------------------#\n",
        "initial = Generation(numOfInd, 0)\n",
        "initial.randomGenerateChromosomes(\n",
        "        chromosome_length)  # initial generate chromosome\n",
        "\n",
        "clustering = Clustering(initial, data, kmax,labels)  # eval fit of chromosomes\n",
        "\n",
        "    # ------------------calc fitness------------------#\n",
        "generation = clustering.calcChromosomesFit()\n",
        "\n",
        "    # ------------------------GA----------------------#\n",
        "while generationCount <= budget:\n",
        "  GA = Genetic(numOfInd, Ps, Pm, Pc, budget, data, generationCount, kmax,labels)\n",
        "  generation, generationCount = GA.geneticProcess(\n",
        "            generation)\n",
        "  iBest = generation.chromosomes[0]\n",
        "  clustering.printIBest(iBest)\n",
        "\n",
        "    # ------------------output result-------------------#\n",
        "clustering.output_result(iBest, data)"
      ],
      "execution_count": 10,
      "outputs": [
        {
          "output_type": "stream",
          "text": [
            "-------------GA Info-------------------\n",
            "budget 25\n",
            "kmax 2\n",
            "numOfInd 20\n",
            "Ps 0.2\n",
            "Pm 0.8\n",
            "Pc 0.2\n",
            "---------------------------------------\n",
            "------------Generation: 0 -----------------\n",
            "predicted : [0, 1, 0, 0, 0, 1, 0, 0, 1, 1, 1, 1, 0, 1, 1, 1, 1, 0, 0, 0, 0, 0, 1, 0, 1, 1, 1, 1, 1, 1, 1, 1, 1, 1, 1, 0, 1, 1, 1, 0, 1, 0, 1, 1, 0, 1, 1, 1, 0, 1, 0, 1, 0, 0, 0, 1, 1, 0, 0, 0, 0, 0, 0, 1, 1, 1, 1, 0, 1, 0, 0, 1, 1, 0, 1, 1, 0, 1, 0, 1, 1, 0, 1, 1, 1, 1, 1, 1, 1, 1, 1, 1, 1, 1, 0, 1, 1, 0, 1, 1, 0, 1, 1, 1, 1, 1, 1, 1, 1, 1, 0, 1, 0, 1, 1, 1, 1, 1, 0, 1, 1, 1, 0, 1, 0, 1, 1, 1, 1, 1, 1, 1, 1, 1, 1, 1, 1, 1, 1, 1, 1, 1, 1, 1, 1, 1, 1, 1, 1, 1, 1, 0, 1, 0, 0, 0]\n",
            "iBest Fitness: 1.1556357269499495\n",
            "Silhouette Coefficient : 0.334\n",
            "centroid 0  : [0.63, 0.14, 0.86, 0.72]\n",
            "centroid 1  : [0.29, 0.83, 0.4, 0.25]\n",
            "mse : 0.106\n",
            "purity : 0.583\n",
            "dunn : inf\n",
            "------------Generation: 1 -----------------\n"
          ],
          "name": "stdout"
        },
        {
          "output_type": "stream",
          "text": [
            "/usr/local/lib/python3.6/dist-packages/ipykernel_launcher.py:33: RuntimeWarning: divide by zero encountered in double_scalars\n"
          ],
          "name": "stderr"
        },
        {
          "output_type": "stream",
          "text": [
            "predicted : [0, 1, 0, 0, 0, 1, 0, 0, 1, 1, 1, 1, 0, 1, 1, 1, 1, 0, 0, 0, 0, 0, 1, 0, 1, 1, 1, 1, 1, 1, 1, 1, 1, 1, 1, 0, 1, 1, 1, 0, 1, 0, 1, 1, 0, 1, 1, 1, 0, 1, 0, 1, 0, 0, 0, 1, 1, 0, 0, 0, 0, 0, 0, 1, 1, 1, 1, 0, 1, 0, 0, 1, 1, 0, 1, 1, 0, 1, 0, 1, 1, 0, 1, 1, 1, 1, 1, 1, 1, 1, 1, 1, 1, 1, 0, 1, 1, 0, 1, 1, 0, 1, 1, 1, 1, 1, 1, 1, 1, 1, 0, 1, 0, 1, 1, 1, 1, 1, 0, 1, 1, 1, 0, 1, 0, 1, 1, 1, 1, 1, 1, 1, 1, 1, 1, 1, 1, 1, 1, 1, 1, 1, 1, 1, 1, 1, 1, 1, 1, 1, 1, 0, 1, 0, 0, 0]\n",
            "iBest Fitness: 1.1556357269499495\n",
            "Silhouette Coefficient : 0.334\n",
            "centroid 0  : [0.63, 0.14, 0.86, 0.72]\n",
            "centroid 1  : [0.29, 0.83, 0.4, 0.25]\n",
            "mse : 0.106\n",
            "purity : 0.583\n",
            "dunn : inf\n",
            "------------Generation: 2 -----------------\n"
          ],
          "name": "stdout"
        },
        {
          "output_type": "stream",
          "text": [
            "/usr/local/lib/python3.6/dist-packages/ipykernel_launcher.py:33: RuntimeWarning: divide by zero encountered in double_scalars\n"
          ],
          "name": "stderr"
        },
        {
          "output_type": "stream",
          "text": [
            "predicted : [0, 1, 0, 0, 0, 1, 0, 0, 1, 1, 1, 1, 0, 1, 1, 1, 1, 0, 0, 0, 0, 0, 1, 0, 1, 1, 1, 1, 1, 1, 1, 1, 1, 1, 1, 0, 1, 1, 1, 0, 1, 0, 1, 1, 0, 1, 1, 1, 0, 1, 0, 1, 0, 0, 0, 1, 1, 0, 0, 0, 0, 0, 0, 1, 1, 1, 1, 0, 1, 0, 0, 1, 1, 0, 1, 1, 0, 1, 0, 1, 1, 0, 1, 1, 1, 1, 1, 1, 1, 1, 1, 1, 1, 1, 0, 1, 1, 0, 1, 1, 0, 1, 1, 1, 1, 1, 1, 1, 1, 1, 0, 1, 0, 1, 1, 1, 1, 1, 0, 1, 1, 1, 0, 1, 0, 1, 1, 1, 1, 1, 1, 1, 1, 1, 1, 1, 1, 1, 1, 1, 1, 1, 1, 1, 1, 1, 1, 1, 1, 1, 1, 0, 1, 0, 0, 0]\n",
            "iBest Fitness: 1.1556357269499495\n",
            "Silhouette Coefficient : 0.334\n",
            "centroid 0  : [0.63, 0.14, 0.86, 0.72]\n",
            "centroid 1  : [0.29, 0.83, 0.4, 0.25]\n",
            "mse : 0.106\n",
            "purity : 0.583\n",
            "dunn : inf\n",
            "------------Generation: 3 -----------------\n"
          ],
          "name": "stdout"
        },
        {
          "output_type": "stream",
          "text": [
            "/usr/local/lib/python3.6/dist-packages/ipykernel_launcher.py:33: RuntimeWarning: divide by zero encountered in double_scalars\n"
          ],
          "name": "stderr"
        },
        {
          "output_type": "stream",
          "text": [
            "predicted : [1, 1, 1, 1, 1, 1, 1, 1, 1, 1, 1, 1, 1, 1, 1, 1, 1, 1, 1, 1, 1, 1, 1, 1, 1, 1, 1, 1, 1, 1, 1, 1, 1, 1, 1, 1, 1, 1, 1, 1, 1, 1, 1, 1, 1, 1, 1, 1, 1, 1, 1, 1, 1, 1, 1, 1, 1, 1, 1, 1, 1, 1, 1, 1, 1, 1, 1, 1, 1, 1, 1, 1, 1, 1, 1, 1, 1, 1, 1, 1, 1, 1, 1, 1, 1, 1, 1, 1, 1, 1, 1, 1, 1, 1, 1, 1, 1, 1, 1, 1, 1, 1, 1, 1, 1, 1, 1, 1, 1, 1, 1, 1, 1, 1, 1, 1, 1, 1, 1, 1, 1, 1, 1, 1, 1, 1, 1, 1, 1, 1, 1, 1, 1, 1, 1, 1, 1, 1, 1, 1, 1, 1, 1, 1, 1, 1, 1, 1, 1, 1, 1, 1, 1, 1, 1, 1]\n",
            "iBest Fitness: 1.2648033791546875\n",
            "centroid 0  : [0.05, 0.93, 0.86, 0.67]\n",
            "centroid 1  : [0.42, 0.55, 0.63, 0.57]\n",
            "mse : 0.114\n",
            "purity : 0.564\n",
            "dunn : inf\n",
            "------------Generation: 4 -----------------\n"
          ],
          "name": "stdout"
        },
        {
          "output_type": "stream",
          "text": [
            "/usr/local/lib/python3.6/dist-packages/ipykernel_launcher.py:33: RuntimeWarning: divide by zero encountered in double_scalars\n"
          ],
          "name": "stderr"
        },
        {
          "output_type": "stream",
          "text": [
            "predicted : [1, 1, 1, 1, 1, 1, 1, 1, 1, 1, 1, 1, 1, 1, 1, 1, 1, 1, 1, 1, 1, 1, 1, 1, 1, 1, 1, 1, 1, 1, 1, 1, 1, 1, 1, 1, 1, 1, 1, 1, 1, 1, 1, 1, 1, 1, 1, 1, 1, 1, 1, 1, 1, 1, 1, 1, 1, 1, 1, 1, 1, 1, 1, 1, 1, 1, 1, 1, 1, 1, 1, 1, 1, 1, 1, 1, 1, 1, 1, 1, 1, 1, 1, 1, 1, 1, 1, 1, 1, 1, 1, 1, 1, 1, 1, 1, 1, 1, 1, 1, 1, 1, 1, 1, 1, 1, 1, 1, 1, 1, 1, 1, 1, 1, 1, 1, 1, 1, 1, 1, 1, 1, 1, 1, 1, 1, 1, 1, 1, 1, 1, 1, 1, 1, 1, 1, 1, 1, 1, 1, 1, 1, 1, 1, 1, 1, 1, 1, 1, 1, 1, 1, 1, 1, 1, 1]\n",
            "iBest Fitness: 1.2648033791546875\n",
            "centroid 0  : [0.05, 0.93, 0.86, 0.67]\n",
            "centroid 1  : [0.42, 0.55, 0.63, 0.57]\n",
            "mse : 0.114\n",
            "purity : 0.564\n",
            "dunn : inf\n",
            "------------Generation: 5 -----------------\n"
          ],
          "name": "stdout"
        },
        {
          "output_type": "stream",
          "text": [
            "/usr/local/lib/python3.6/dist-packages/ipykernel_launcher.py:33: RuntimeWarning: divide by zero encountered in double_scalars\n"
          ],
          "name": "stderr"
        },
        {
          "output_type": "stream",
          "text": [
            "predicted : [0, 0, 0, 0, 0, 0, 0, 0, 0, 0, 0, 0, 0, 0, 0, 0, 0, 0, 0, 0, 0, 0, 0, 0, 0, 0, 0, 0, 0, 0, 0, 0, 0, 0, 0, 0, 0, 0, 0, 0, 0, 0, 0, 0, 0, 0, 0, 0, 0, 0, 0, 0, 0, 0, 0, 0, 0, 0, 0, 0, 0, 0, 0, 0, 0, 0, 0, 0, 0, 0, 0, 0, 0, 0, 0, 0, 0, 0, 0, 0, 0, 0, 0, 0, 0, 0, 0, 0, 0, 0, 0, 0, 0, 0, 0, 0, 0, 0, 0, 0, 0, 0, 0, 0, 0, 0, 0, 0, 0, 0, 0, 0, 0, 0, 0, 0, 0, 0, 0, 0, 0, 0, 0, 0, 0, 0, 0, 0, 0, 0, 0, 0, 0, 0, 0, 0, 0, 0, 0, 0, 0, 0, 0, 0, 0, 0, 0, 0, 0, 0, 0, 0, 0, 0, 0, 0]\n",
            "iBest Fitness: 1.857709847431081\n",
            "centroid 0  : [0.4, 0.61, 0.49, 0.57]\n",
            "centroid 1  : [0.84, 0.03, 0.07, 0.46]\n",
            "mse : 0.101\n",
            "purity : 0.564\n",
            "dunn : inf\n",
            "------------Generation: 6 -----------------\n"
          ],
          "name": "stdout"
        },
        {
          "output_type": "stream",
          "text": [
            "/usr/local/lib/python3.6/dist-packages/ipykernel_launcher.py:33: RuntimeWarning: divide by zero encountered in double_scalars\n"
          ],
          "name": "stderr"
        },
        {
          "output_type": "stream",
          "text": [
            "predicted : [0, 0, 0, 0, 0, 0, 0, 0, 0, 0, 0, 0, 0, 0, 0, 0, 0, 0, 0, 0, 0, 0, 0, 0, 0, 0, 0, 0, 0, 0, 0, 0, 0, 0, 0, 0, 0, 0, 0, 0, 0, 0, 0, 0, 0, 0, 0, 0, 0, 0, 0, 0, 0, 0, 0, 0, 0, 0, 0, 0, 0, 0, 0, 0, 0, 0, 0, 0, 0, 0, 0, 0, 0, 0, 0, 0, 0, 0, 0, 0, 0, 0, 0, 0, 0, 0, 0, 0, 0, 0, 0, 0, 0, 0, 0, 0, 0, 0, 0, 0, 0, 0, 0, 0, 0, 0, 0, 0, 0, 0, 0, 0, 0, 0, 0, 0, 0, 0, 0, 0, 0, 0, 0, 0, 0, 0, 0, 0, 0, 0, 0, 0, 0, 0, 0, 0, 0, 0, 0, 0, 0, 0, 0, 0, 0, 0, 0, 0, 0, 0, 0, 0, 0, 0, 0, 0]\n",
            "iBest Fitness: 1.857709847431081\n",
            "centroid 0  : [0.4, 0.61, 0.49, 0.57]\n",
            "centroid 1  : [0.84, 0.03, 0.07, 0.46]\n",
            "mse : 0.101\n",
            "purity : 0.564\n",
            "dunn : inf\n",
            "------------Generation: 7 -----------------\n"
          ],
          "name": "stdout"
        },
        {
          "output_type": "stream",
          "text": [
            "/usr/local/lib/python3.6/dist-packages/ipykernel_launcher.py:33: RuntimeWarning: divide by zero encountered in double_scalars\n"
          ],
          "name": "stderr"
        },
        {
          "output_type": "stream",
          "text": [
            "predicted : [0, 0, 0, 0, 0, 0, 0, 0, 0, 0, 0, 0, 0, 0, 0, 0, 0, 0, 0, 0, 0, 0, 0, 0, 0, 0, 0, 0, 0, 0, 0, 0, 0, 0, 0, 0, 0, 0, 0, 0, 0, 0, 0, 0, 0, 0, 0, 0, 0, 0, 0, 0, 0, 0, 0, 0, 0, 0, 0, 0, 0, 0, 0, 0, 0, 0, 0, 0, 0, 0, 0, 0, 0, 0, 0, 0, 0, 0, 0, 0, 0, 0, 0, 0, 0, 0, 0, 0, 0, 0, 0, 0, 0, 0, 0, 0, 0, 0, 0, 0, 0, 0, 0, 0, 0, 0, 0, 0, 0, 0, 0, 0, 0, 0, 0, 0, 0, 0, 0, 0, 0, 0, 0, 0, 0, 0, 0, 0, 0, 0, 0, 0, 0, 0, 0, 0, 0, 0, 0, 0, 0, 0, 0, 0, 0, 0, 0, 0, 0, 0, 0, 0, 0, 0, 0, 0]\n",
            "iBest Fitness: 1.857709847431081\n",
            "centroid 0  : [0.4, 0.61, 0.49, 0.57]\n",
            "centroid 1  : [0.84, 0.03, 0.07, 0.46]\n",
            "mse : 0.101\n",
            "purity : 0.564\n",
            "dunn : inf\n",
            "------------Generation: 8 -----------------\n"
          ],
          "name": "stdout"
        },
        {
          "output_type": "stream",
          "text": [
            "/usr/local/lib/python3.6/dist-packages/ipykernel_launcher.py:33: RuntimeWarning: divide by zero encountered in double_scalars\n"
          ],
          "name": "stderr"
        },
        {
          "output_type": "stream",
          "text": [
            "predicted : [0, 0, 0, 0, 0, 0, 0, 0, 0, 0, 0, 0, 0, 0, 0, 0, 0, 0, 0, 0, 0, 0, 0, 0, 0, 0, 0, 0, 0, 0, 0, 0, 0, 0, 0, 0, 0, 0, 0, 0, 0, 0, 0, 0, 0, 0, 0, 0, 0, 0, 0, 0, 0, 0, 0, 0, 0, 0, 0, 0, 0, 0, 0, 0, 0, 0, 0, 0, 0, 0, 0, 0, 0, 0, 0, 0, 0, 0, 0, 0, 0, 0, 0, 0, 0, 0, 0, 0, 0, 0, 0, 0, 0, 0, 0, 0, 0, 0, 0, 0, 0, 0, 0, 0, 0, 0, 0, 0, 0, 0, 0, 0, 0, 0, 0, 0, 0, 0, 0, 0, 0, 0, 0, 0, 0, 0, 0, 0, 0, 0, 0, 0, 0, 0, 0, 0, 0, 0, 0, 0, 0, 0, 0, 0, 0, 0, 0, 0, 0, 0, 0, 0, 0, 0, 0, 0]\n",
            "iBest Fitness: 1.857709847431081\n",
            "centroid 0  : [0.4, 0.61, 0.49, 0.57]\n",
            "centroid 1  : [0.84, 0.03, 0.07, 0.46]\n",
            "mse : 0.101\n",
            "purity : 0.564\n",
            "dunn : inf\n",
            "------------Generation: 9 -----------------\n"
          ],
          "name": "stdout"
        },
        {
          "output_type": "stream",
          "text": [
            "/usr/local/lib/python3.6/dist-packages/ipykernel_launcher.py:33: RuntimeWarning: divide by zero encountered in double_scalars\n"
          ],
          "name": "stderr"
        },
        {
          "output_type": "stream",
          "text": [
            "predicted : [0, 0, 0, 0, 0, 0, 0, 0, 0, 0, 0, 0, 0, 0, 0, 0, 0, 0, 0, 0, 0, 0, 0, 0, 0, 0, 0, 0, 0, 0, 0, 0, 0, 0, 0, 0, 0, 0, 0, 0, 0, 0, 0, 0, 0, 0, 0, 0, 0, 0, 0, 0, 0, 0, 0, 0, 0, 0, 0, 0, 0, 0, 0, 0, 0, 0, 0, 0, 0, 0, 0, 0, 0, 0, 0, 0, 0, 0, 0, 0, 0, 0, 0, 0, 0, 0, 0, 0, 0, 0, 0, 0, 0, 0, 0, 0, 0, 0, 0, 0, 0, 0, 0, 0, 0, 0, 0, 0, 0, 0, 0, 0, 0, 0, 0, 0, 0, 0, 0, 0, 0, 0, 0, 0, 0, 0, 0, 0, 0, 0, 0, 0, 0, 0, 0, 0, 0, 0, 0, 0, 0, 0, 0, 0, 0, 0, 0, 0, 0, 0, 0, 0, 0, 0, 0, 0]\n",
            "iBest Fitness: 1.857709847431081\n",
            "centroid 0  : [0.4, 0.61, 0.49, 0.57]\n",
            "centroid 1  : [0.84, 0.03, 0.07, 0.46]\n",
            "mse : 0.101\n",
            "purity : 0.564\n",
            "dunn : inf\n",
            "------------Generation: 10 -----------------\n"
          ],
          "name": "stdout"
        },
        {
          "output_type": "stream",
          "text": [
            "/usr/local/lib/python3.6/dist-packages/ipykernel_launcher.py:33: RuntimeWarning: divide by zero encountered in double_scalars\n"
          ],
          "name": "stderr"
        },
        {
          "output_type": "stream",
          "text": [
            "predicted : [0, 0, 0, 0, 0, 0, 0, 0, 0, 0, 0, 0, 0, 0, 0, 0, 0, 0, 0, 0, 0, 0, 0, 0, 0, 0, 0, 0, 0, 0, 0, 0, 0, 0, 0, 0, 0, 0, 0, 0, 0, 0, 0, 0, 0, 0, 0, 0, 0, 0, 0, 0, 0, 0, 0, 0, 0, 0, 0, 0, 0, 0, 0, 0, 0, 0, 0, 0, 0, 0, 0, 0, 0, 0, 0, 0, 0, 0, 0, 0, 0, 0, 0, 0, 0, 0, 0, 0, 0, 0, 0, 0, 0, 0, 0, 0, 0, 0, 0, 0, 0, 0, 0, 0, 0, 0, 0, 0, 0, 0, 0, 0, 0, 0, 0, 0, 0, 0, 0, 0, 0, 0, 0, 0, 0, 0, 0, 0, 0, 0, 0, 0, 0, 0, 0, 0, 0, 0, 0, 0, 0, 0, 0, 0, 0, 0, 0, 0, 0, 0, 0, 0, 0, 0, 0, 0]\n",
            "iBest Fitness: 1.857709847431081\n",
            "centroid 0  : [0.4, 0.61, 0.49, 0.57]\n",
            "centroid 1  : [0.84, 0.03, 0.07, 0.46]\n",
            "mse : 0.101\n",
            "purity : 0.564\n",
            "dunn : inf\n",
            "------------Generation: 11 -----------------\n"
          ],
          "name": "stdout"
        },
        {
          "output_type": "stream",
          "text": [
            "/usr/local/lib/python3.6/dist-packages/ipykernel_launcher.py:33: RuntimeWarning: divide by zero encountered in double_scalars\n"
          ],
          "name": "stderr"
        },
        {
          "output_type": "stream",
          "text": [
            "predicted : [0, 0, 0, 0, 0, 0, 0, 0, 0, 0, 0, 0, 0, 0, 0, 0, 0, 0, 0, 0, 0, 0, 0, 0, 0, 0, 0, 0, 0, 0, 0, 0, 0, 0, 0, 0, 0, 0, 0, 0, 0, 0, 0, 0, 0, 0, 0, 0, 0, 0, 0, 0, 0, 0, 0, 0, 0, 0, 0, 0, 0, 0, 0, 0, 0, 0, 0, 0, 0, 0, 0, 0, 0, 0, 0, 0, 0, 0, 0, 0, 0, 0, 0, 0, 0, 0, 0, 0, 0, 0, 0, 0, 0, 0, 0, 0, 0, 0, 0, 0, 0, 0, 0, 0, 0, 0, 0, 0, 0, 0, 0, 0, 0, 0, 0, 0, 0, 0, 0, 0, 0, 0, 0, 0, 0, 0, 0, 0, 0, 0, 0, 0, 0, 0, 0, 0, 0, 0, 0, 0, 0, 0, 0, 0, 0, 0, 0, 0, 0, 0, 0, 0, 0, 0, 0, 0]\n",
            "iBest Fitness: 1.857709847431081\n",
            "centroid 0  : [0.4, 0.61, 0.49, 0.57]\n",
            "centroid 1  : [0.84, 0.03, 0.07, 0.46]\n",
            "mse : 0.101\n",
            "purity : 0.564\n",
            "dunn : inf\n",
            "------------Generation: 12 -----------------\n"
          ],
          "name": "stdout"
        },
        {
          "output_type": "stream",
          "text": [
            "/usr/local/lib/python3.6/dist-packages/ipykernel_launcher.py:33: RuntimeWarning: divide by zero encountered in double_scalars\n"
          ],
          "name": "stderr"
        },
        {
          "output_type": "stream",
          "text": [
            "predicted : [0, 0, 0, 0, 0, 0, 0, 0, 0, 0, 0, 0, 0, 0, 0, 0, 0, 0, 0, 0, 0, 0, 0, 0, 0, 0, 0, 0, 0, 0, 0, 0, 0, 0, 0, 0, 0, 0, 0, 0, 0, 0, 0, 0, 0, 0, 0, 0, 0, 0, 0, 0, 0, 0, 0, 0, 0, 0, 0, 0, 0, 0, 0, 0, 0, 0, 0, 0, 0, 0, 0, 0, 0, 0, 0, 0, 0, 0, 0, 0, 0, 0, 0, 0, 0, 0, 0, 0, 0, 0, 0, 0, 0, 0, 0, 0, 0, 0, 0, 0, 0, 0, 0, 0, 0, 0, 0, 0, 0, 0, 0, 0, 0, 0, 0, 0, 0, 0, 0, 0, 0, 0, 0, 0, 0, 0, 0, 0, 0, 0, 0, 0, 0, 0, 0, 0, 0, 0, 0, 0, 0, 0, 0, 0, 0, 0, 0, 0, 0, 0, 0, 0, 0, 0, 0, 0]\n",
            "iBest Fitness: 1.857709847431081\n",
            "centroid 0  : [0.4, 0.61, 0.49, 0.57]\n",
            "centroid 1  : [0.84, 0.03, 0.07, 0.46]\n",
            "mse : 0.101\n",
            "purity : 0.564\n",
            "dunn : inf\n",
            "------------Generation: 13 -----------------\n"
          ],
          "name": "stdout"
        },
        {
          "output_type": "stream",
          "text": [
            "/usr/local/lib/python3.6/dist-packages/ipykernel_launcher.py:33: RuntimeWarning: divide by zero encountered in double_scalars\n"
          ],
          "name": "stderr"
        },
        {
          "output_type": "stream",
          "text": [
            "predicted : [0, 0, 0, 0, 0, 0, 0, 0, 0, 0, 0, 0, 0, 0, 0, 0, 0, 0, 0, 0, 0, 0, 0, 0, 0, 0, 0, 0, 0, 0, 0, 0, 0, 0, 0, 0, 0, 0, 0, 0, 0, 0, 0, 0, 0, 0, 0, 0, 0, 0, 0, 0, 0, 0, 0, 0, 0, 0, 0, 0, 0, 0, 0, 0, 0, 0, 0, 0, 0, 0, 0, 0, 0, 0, 0, 0, 0, 0, 0, 0, 0, 0, 0, 0, 0, 0, 0, 0, 0, 0, 0, 0, 0, 0, 0, 0, 0, 0, 0, 0, 0, 0, 0, 0, 0, 0, 0, 0, 0, 0, 0, 0, 0, 0, 0, 0, 0, 0, 0, 0, 0, 0, 0, 0, 0, 0, 0, 0, 0, 0, 0, 0, 0, 0, 0, 0, 0, 0, 0, 0, 0, 0, 0, 0, 0, 0, 0, 0, 0, 0, 0, 0, 0, 0, 0, 0]\n",
            "iBest Fitness: 1.857709847431081\n",
            "centroid 0  : [0.4, 0.61, 0.49, 0.57]\n",
            "centroid 1  : [0.84, 0.03, 0.07, 0.46]\n",
            "mse : 0.101\n",
            "purity : 0.564\n",
            "dunn : inf\n",
            "------------Generation: 14 -----------------\n"
          ],
          "name": "stdout"
        },
        {
          "output_type": "stream",
          "text": [
            "/usr/local/lib/python3.6/dist-packages/ipykernel_launcher.py:33: RuntimeWarning: divide by zero encountered in double_scalars\n"
          ],
          "name": "stderr"
        },
        {
          "output_type": "stream",
          "text": [
            "predicted : [0, 0, 0, 0, 0, 0, 0, 0, 0, 0, 0, 0, 0, 0, 0, 0, 0, 0, 0, 0, 0, 0, 0, 0, 0, 0, 0, 0, 0, 0, 0, 0, 0, 0, 0, 0, 0, 0, 0, 0, 0, 0, 0, 0, 0, 0, 0, 0, 0, 0, 0, 0, 0, 0, 0, 0, 0, 0, 0, 0, 0, 0, 0, 0, 0, 0, 0, 0, 0, 0, 0, 0, 0, 0, 0, 0, 0, 0, 0, 0, 0, 0, 0, 0, 0, 0, 0, 0, 0, 0, 0, 0, 0, 0, 0, 0, 0, 0, 0, 0, 0, 0, 0, 0, 0, 0, 0, 0, 0, 0, 0, 0, 0, 0, 0, 0, 0, 0, 0, 0, 0, 0, 0, 0, 0, 0, 0, 0, 0, 0, 0, 0, 0, 0, 0, 0, 0, 0, 0, 0, 0, 0, 0, 0, 0, 0, 0, 0, 0, 0, 0, 0, 0, 0, 0, 0]\n",
            "iBest Fitness: 1.857709847431081\n",
            "centroid 0  : [0.4, 0.61, 0.49, 0.57]\n",
            "centroid 1  : [0.84, 0.03, 0.07, 0.46]\n",
            "mse : 0.101\n",
            "purity : 0.564\n",
            "dunn : inf\n",
            "------------Generation: 15 -----------------\n"
          ],
          "name": "stdout"
        },
        {
          "output_type": "stream",
          "text": [
            "/usr/local/lib/python3.6/dist-packages/ipykernel_launcher.py:33: RuntimeWarning: divide by zero encountered in double_scalars\n"
          ],
          "name": "stderr"
        },
        {
          "output_type": "stream",
          "text": [
            "predicted : [0, 0, 0, 0, 0, 0, 0, 0, 0, 0, 0, 0, 0, 0, 0, 0, 0, 0, 0, 0, 0, 0, 0, 0, 0, 0, 0, 0, 0, 0, 0, 0, 0, 0, 0, 0, 0, 0, 0, 0, 0, 0, 0, 0, 0, 0, 0, 0, 0, 0, 0, 0, 0, 0, 0, 0, 0, 0, 0, 0, 0, 0, 0, 0, 0, 0, 0, 0, 0, 0, 0, 0, 0, 0, 0, 0, 0, 0, 0, 0, 0, 0, 0, 0, 0, 0, 0, 0, 0, 0, 0, 0, 0, 0, 0, 0, 0, 0, 0, 0, 0, 0, 0, 0, 0, 0, 0, 0, 0, 0, 0, 0, 0, 0, 0, 0, 0, 0, 0, 0, 0, 0, 0, 0, 0, 0, 0, 0, 0, 0, 0, 0, 0, 0, 0, 0, 0, 0, 0, 0, 0, 0, 0, 0, 0, 0, 0, 0, 0, 0, 0, 0, 0, 0, 0, 0]\n",
            "iBest Fitness: 1.857709847431081\n",
            "centroid 0  : [0.4, 0.61, 0.49, 0.57]\n",
            "centroid 1  : [0.84, 0.03, 0.07, 0.46]\n",
            "mse : 0.101\n",
            "purity : 0.564\n",
            "dunn : inf\n",
            "------------Generation: 16 -----------------\n"
          ],
          "name": "stdout"
        },
        {
          "output_type": "stream",
          "text": [
            "/usr/local/lib/python3.6/dist-packages/ipykernel_launcher.py:33: RuntimeWarning: divide by zero encountered in double_scalars\n"
          ],
          "name": "stderr"
        },
        {
          "output_type": "stream",
          "text": [
            "predicted : [0, 0, 0, 0, 0, 0, 0, 0, 0, 0, 0, 0, 0, 0, 0, 0, 0, 0, 0, 0, 0, 0, 0, 0, 0, 0, 0, 0, 0, 0, 0, 0, 0, 0, 0, 0, 0, 0, 0, 0, 0, 0, 0, 0, 0, 0, 0, 0, 0, 0, 0, 0, 0, 0, 0, 0, 0, 0, 0, 0, 0, 0, 0, 0, 0, 0, 0, 0, 0, 0, 0, 0, 0, 0, 0, 0, 0, 0, 0, 0, 0, 0, 0, 0, 0, 0, 0, 0, 0, 0, 0, 0, 0, 0, 0, 0, 0, 0, 0, 0, 0, 0, 0, 0, 0, 0, 0, 0, 0, 0, 0, 0, 0, 0, 0, 0, 0, 0, 0, 0, 0, 0, 0, 0, 0, 0, 0, 0, 0, 0, 0, 0, 0, 0, 0, 0, 0, 0, 0, 0, 0, 0, 0, 0, 0, 0, 0, 0, 0, 0, 0, 0, 0, 0, 0, 0]\n",
            "iBest Fitness: 1.857709847431081\n",
            "centroid 0  : [0.4, 0.61, 0.49, 0.57]\n",
            "centroid 1  : [0.84, 0.03, 0.07, 0.46]\n",
            "mse : 0.101\n",
            "purity : 0.564\n",
            "dunn : inf\n",
            "------------Generation: 17 -----------------\n"
          ],
          "name": "stdout"
        },
        {
          "output_type": "stream",
          "text": [
            "/usr/local/lib/python3.6/dist-packages/ipykernel_launcher.py:33: RuntimeWarning: divide by zero encountered in double_scalars\n"
          ],
          "name": "stderr"
        },
        {
          "output_type": "stream",
          "text": [
            "predicted : [0, 0, 0, 0, 0, 0, 0, 0, 0, 0, 0, 0, 0, 0, 0, 0, 0, 0, 0, 0, 0, 0, 0, 0, 0, 0, 0, 0, 0, 0, 0, 0, 0, 0, 0, 0, 0, 0, 0, 0, 0, 0, 0, 0, 0, 0, 0, 0, 0, 0, 0, 0, 0, 0, 0, 0, 0, 0, 0, 0, 0, 0, 0, 0, 0, 0, 0, 0, 0, 0, 0, 0, 0, 0, 0, 0, 0, 0, 0, 0, 0, 0, 0, 0, 0, 0, 0, 0, 0, 0, 0, 0, 0, 0, 0, 0, 0, 0, 0, 0, 0, 0, 0, 0, 0, 0, 0, 0, 0, 0, 0, 0, 0, 0, 0, 0, 0, 0, 0, 0, 0, 0, 0, 0, 0, 0, 0, 0, 0, 0, 0, 0, 0, 0, 0, 0, 0, 0, 0, 0, 0, 0, 0, 0, 0, 0, 0, 0, 0, 0, 0, 0, 0, 0, 0, 0]\n",
            "iBest Fitness: 2.033937335875821\n",
            "centroid 0  : [0.49, 0.52, 0.95, 0.27]\n",
            "centroid 1  : [0.66, 0.0, 0.06, 0.98]\n",
            "mse : 0.181\n",
            "purity : 0.564\n",
            "dunn : inf\n",
            "------------Generation: 18 -----------------\n"
          ],
          "name": "stdout"
        },
        {
          "output_type": "stream",
          "text": [
            "/usr/local/lib/python3.6/dist-packages/ipykernel_launcher.py:33: RuntimeWarning: divide by zero encountered in double_scalars\n"
          ],
          "name": "stderr"
        },
        {
          "output_type": "stream",
          "text": [
            "predicted : [0, 0, 0, 0, 0, 0, 0, 0, 0, 0, 0, 0, 0, 0, 0, 0, 0, 0, 0, 0, 0, 0, 0, 0, 0, 0, 0, 0, 0, 0, 0, 0, 0, 0, 0, 0, 0, 0, 0, 0, 0, 0, 0, 0, 0, 0, 0, 0, 0, 0, 0, 0, 0, 0, 0, 0, 0, 0, 0, 0, 0, 0, 0, 0, 0, 0, 0, 0, 0, 0, 0, 0, 0, 0, 0, 0, 0, 0, 0, 0, 0, 0, 0, 0, 0, 0, 0, 0, 0, 0, 0, 0, 0, 0, 0, 0, 0, 0, 0, 0, 0, 0, 0, 0, 0, 0, 0, 0, 0, 0, 0, 0, 0, 0, 0, 0, 0, 0, 0, 0, 0, 0, 0, 0, 0, 0, 0, 0, 0, 0, 0, 0, 0, 0, 0, 0, 0, 0, 0, 0, 0, 0, 0, 0, 0, 0, 0, 0, 0, 0, 0, 0, 0, 0, 0, 0]\n",
            "iBest Fitness: 2.033937335875821\n",
            "centroid 0  : [0.49, 0.52, 0.95, 0.27]\n",
            "centroid 1  : [0.66, 0.0, 0.06, 0.98]\n",
            "mse : 0.181\n",
            "purity : 0.564\n",
            "dunn : inf\n",
            "------------Generation: 19 -----------------\n"
          ],
          "name": "stdout"
        },
        {
          "output_type": "stream",
          "text": [
            "/usr/local/lib/python3.6/dist-packages/ipykernel_launcher.py:33: RuntimeWarning: divide by zero encountered in double_scalars\n"
          ],
          "name": "stderr"
        },
        {
          "output_type": "stream",
          "text": [
            "predicted : [0, 0, 0, 0, 0, 0, 0, 0, 0, 0, 0, 0, 0, 0, 0, 0, 0, 0, 0, 0, 0, 0, 0, 0, 0, 0, 0, 0, 0, 0, 0, 0, 0, 0, 0, 0, 0, 0, 0, 0, 0, 0, 0, 0, 0, 0, 0, 0, 0, 0, 0, 0, 0, 0, 0, 0, 0, 0, 0, 0, 0, 0, 0, 0, 0, 0, 0, 0, 0, 0, 0, 0, 0, 0, 0, 0, 0, 0, 0, 0, 0, 0, 0, 0, 0, 0, 0, 0, 0, 0, 0, 0, 0, 0, 0, 0, 0, 0, 0, 0, 0, 0, 0, 0, 0, 0, 0, 0, 0, 0, 0, 0, 0, 0, 0, 0, 0, 0, 0, 0, 0, 0, 0, 0, 0, 0, 0, 0, 0, 0, 0, 0, 0, 0, 0, 0, 0, 0, 0, 0, 0, 0, 0, 0, 0, 0, 0, 0, 0, 0, 0, 0, 0, 0, 0, 0]\n",
            "iBest Fitness: 2.033937335875821\n",
            "centroid 0  : [0.49, 0.52, 0.95, 0.27]\n",
            "centroid 1  : [0.66, 0.0, 0.06, 0.98]\n",
            "mse : 0.181\n",
            "purity : 0.564\n",
            "dunn : inf\n",
            "------------Generation: 20 -----------------\n"
          ],
          "name": "stdout"
        },
        {
          "output_type": "stream",
          "text": [
            "/usr/local/lib/python3.6/dist-packages/ipykernel_launcher.py:33: RuntimeWarning: divide by zero encountered in double_scalars\n"
          ],
          "name": "stderr"
        },
        {
          "output_type": "stream",
          "text": [
            "predicted : [0, 0, 0, 0, 0, 0, 0, 0, 0, 0, 0, 0, 0, 0, 0, 0, 0, 0, 0, 0, 0, 0, 0, 0, 0, 0, 0, 0, 0, 0, 0, 0, 0, 0, 0, 0, 0, 0, 0, 0, 0, 0, 0, 0, 0, 0, 0, 0, 0, 0, 0, 0, 0, 0, 0, 0, 0, 0, 0, 0, 0, 0, 0, 0, 0, 0, 0, 0, 0, 0, 0, 0, 0, 0, 0, 0, 0, 0, 0, 0, 0, 0, 0, 0, 0, 0, 0, 0, 0, 0, 0, 0, 0, 0, 0, 0, 0, 0, 0, 0, 0, 0, 0, 0, 0, 0, 0, 0, 0, 0, 0, 0, 0, 0, 0, 0, 0, 0, 0, 0, 0, 0, 0, 0, 0, 0, 0, 0, 0, 0, 0, 0, 0, 0, 0, 0, 0, 0, 0, 0, 0, 0, 0, 0, 0, 0, 0, 0, 0, 0, 0, 0, 0, 0, 0, 0]\n",
            "iBest Fitness: 2.033937335875821\n",
            "centroid 0  : [0.49, 0.52, 0.95, 0.27]\n",
            "centroid 1  : [0.66, 0.0, 0.06, 0.98]\n",
            "mse : 0.181\n",
            "purity : 0.564\n",
            "dunn : inf\n",
            "------------Generation: 21 -----------------\n"
          ],
          "name": "stdout"
        },
        {
          "output_type": "stream",
          "text": [
            "/usr/local/lib/python3.6/dist-packages/ipykernel_launcher.py:33: RuntimeWarning: divide by zero encountered in double_scalars\n"
          ],
          "name": "stderr"
        },
        {
          "output_type": "stream",
          "text": [
            "predicted : [0, 0, 0, 0, 0, 0, 0, 0, 0, 0, 0, 0, 0, 0, 0, 0, 0, 0, 0, 0, 0, 0, 0, 0, 0, 0, 0, 0, 0, 0, 0, 0, 0, 0, 0, 0, 0, 0, 0, 0, 0, 0, 0, 0, 0, 0, 0, 0, 0, 0, 0, 0, 0, 0, 0, 0, 0, 0, 0, 0, 0, 0, 0, 0, 0, 0, 0, 0, 0, 0, 0, 0, 0, 0, 0, 0, 0, 0, 0, 0, 0, 0, 0, 0, 0, 0, 0, 0, 0, 0, 0, 0, 0, 0, 0, 0, 0, 0, 0, 0, 0, 0, 0, 0, 0, 0, 0, 0, 0, 0, 0, 0, 0, 0, 0, 0, 0, 0, 0, 0, 0, 0, 0, 0, 0, 0, 0, 0, 0, 0, 0, 0, 0, 0, 0, 0, 0, 0, 0, 0, 0, 0, 0, 0, 0, 0, 0, 0, 0, 0, 0, 0, 0, 0, 0, 0]\n",
            "iBest Fitness: 2.033937335875821\n",
            "centroid 0  : [0.49, 0.52, 0.95, 0.27]\n",
            "centroid 1  : [0.66, 0.0, 0.06, 0.98]\n",
            "mse : 0.181\n",
            "purity : 0.564\n",
            "dunn : inf\n",
            "------------Generation: 22 -----------------\n"
          ],
          "name": "stdout"
        },
        {
          "output_type": "stream",
          "text": [
            "/usr/local/lib/python3.6/dist-packages/ipykernel_launcher.py:33: RuntimeWarning: divide by zero encountered in double_scalars\n"
          ],
          "name": "stderr"
        },
        {
          "output_type": "stream",
          "text": [
            "predicted : [0, 0, 0, 0, 0, 0, 0, 0, 0, 0, 0, 0, 0, 0, 0, 0, 0, 0, 0, 0, 0, 0, 0, 0, 0, 0, 0, 0, 0, 0, 0, 0, 0, 0, 0, 0, 0, 0, 0, 0, 0, 0, 0, 0, 0, 0, 0, 0, 0, 0, 0, 0, 0, 0, 0, 0, 0, 0, 0, 0, 0, 0, 0, 0, 0, 0, 0, 0, 0, 0, 0, 0, 0, 0, 0, 0, 0, 0, 0, 0, 0, 0, 0, 0, 0, 0, 0, 0, 0, 0, 0, 0, 0, 0, 0, 0, 0, 0, 0, 0, 0, 0, 0, 0, 0, 0, 0, 0, 0, 0, 0, 0, 0, 0, 0, 0, 0, 0, 0, 0, 0, 0, 0, 0, 0, 0, 0, 0, 0, 0, 0, 0, 0, 0, 0, 0, 0, 0, 0, 0, 0, 0, 0, 0, 0, 0, 0, 0, 0, 0, 0, 0, 0, 0, 0, 0]\n",
            "iBest Fitness: 2.033937335875821\n",
            "centroid 0  : [0.49, 0.52, 0.95, 0.27]\n",
            "centroid 1  : [0.66, 0.0, 0.06, 0.98]\n",
            "mse : 0.181\n",
            "purity : 0.564\n",
            "dunn : inf\n",
            "------------Generation: 23 -----------------\n"
          ],
          "name": "stdout"
        },
        {
          "output_type": "stream",
          "text": [
            "/usr/local/lib/python3.6/dist-packages/ipykernel_launcher.py:33: RuntimeWarning: divide by zero encountered in double_scalars\n"
          ],
          "name": "stderr"
        },
        {
          "output_type": "stream",
          "text": [
            "predicted : [0, 0, 0, 0, 0, 0, 0, 0, 0, 0, 0, 0, 0, 0, 0, 0, 0, 0, 0, 0, 0, 0, 0, 0, 0, 0, 0, 0, 0, 0, 0, 0, 0, 0, 0, 0, 0, 0, 0, 0, 0, 0, 0, 0, 0, 0, 0, 0, 0, 0, 0, 0, 0, 0, 0, 0, 0, 0, 0, 0, 0, 0, 0, 0, 0, 0, 0, 0, 0, 0, 0, 0, 0, 0, 0, 0, 0, 0, 0, 0, 0, 0, 0, 0, 0, 0, 0, 0, 0, 0, 0, 0, 0, 0, 0, 0, 0, 0, 0, 0, 0, 0, 0, 0, 0, 0, 0, 0, 0, 0, 0, 0, 0, 0, 0, 0, 0, 0, 0, 0, 0, 0, 0, 0, 0, 0, 0, 0, 0, 0, 0, 0, 0, 0, 0, 0, 0, 0, 0, 0, 0, 0, 0, 0, 0, 0, 0, 0, 0, 0, 0, 0, 0, 0, 0, 0]\n",
            "iBest Fitness: 2.4279718803494164\n",
            "centroid 0  : [0.61, 0.51, 0.52, 0.25]\n",
            "centroid 1  : [0.06, 0.73, 0.16, 0.98]\n",
            "mse : 0.159\n",
            "purity : 0.564\n",
            "dunn : inf\n",
            "------------Generation: 24 -----------------\n"
          ],
          "name": "stdout"
        },
        {
          "output_type": "stream",
          "text": [
            "/usr/local/lib/python3.6/dist-packages/ipykernel_launcher.py:33: RuntimeWarning: divide by zero encountered in double_scalars\n"
          ],
          "name": "stderr"
        },
        {
          "output_type": "stream",
          "text": [
            "predicted : [0, 0, 0, 0, 0, 0, 0, 0, 0, 0, 0, 0, 0, 0, 0, 0, 0, 0, 0, 0, 0, 0, 0, 0, 0, 0, 0, 0, 0, 0, 0, 0, 0, 0, 0, 0, 0, 0, 0, 0, 0, 0, 0, 0, 0, 0, 0, 0, 0, 0, 0, 0, 0, 0, 0, 0, 0, 0, 0, 0, 0, 0, 0, 0, 0, 0, 0, 0, 0, 0, 0, 0, 0, 0, 0, 0, 0, 0, 0, 0, 0, 0, 0, 0, 0, 0, 0, 0, 0, 0, 0, 0, 0, 0, 0, 0, 0, 0, 0, 0, 0, 0, 0, 0, 0, 0, 0, 0, 0, 0, 0, 0, 0, 0, 0, 0, 0, 0, 0, 0, 0, 0, 0, 0, 0, 0, 0, 0, 0, 0, 0, 0, 0, 0, 0, 0, 0, 0, 0, 0, 0, 0, 0, 0, 0, 0, 0, 0, 0, 0, 0, 0, 0, 0, 0, 0]\n",
            "iBest Fitness: 2.4279718803494164\n",
            "centroid 0  : [0.61, 0.51, 0.52, 0.25]\n",
            "centroid 1  : [0.06, 0.73, 0.16, 0.98]\n",
            "mse : 0.159\n",
            "purity : 0.564\n",
            "dunn : inf\n",
            "------------Generation: 25 -----------------\n"
          ],
          "name": "stdout"
        },
        {
          "output_type": "stream",
          "text": [
            "/usr/local/lib/python3.6/dist-packages/ipykernel_launcher.py:33: RuntimeWarning: divide by zero encountered in double_scalars\n"
          ],
          "name": "stderr"
        },
        {
          "output_type": "stream",
          "text": [
            "predicted : [0, 0, 0, 0, 0, 0, 0, 0, 0, 0, 0, 0, 0, 0, 0, 0, 0, 0, 0, 0, 0, 0, 0, 0, 0, 0, 0, 0, 0, 0, 0, 0, 0, 0, 0, 0, 0, 0, 0, 0, 0, 0, 0, 0, 0, 0, 0, 0, 0, 0, 0, 0, 0, 0, 0, 0, 0, 0, 0, 0, 0, 0, 0, 0, 0, 0, 0, 0, 0, 0, 0, 0, 0, 0, 0, 0, 0, 0, 0, 0, 0, 0, 0, 0, 0, 0, 0, 0, 0, 0, 0, 0, 0, 0, 0, 0, 0, 0, 0, 0, 0, 0, 0, 0, 0, 0, 0, 0, 0, 0, 0, 0, 0, 0, 0, 0, 0, 0, 0, 0, 0, 0, 0, 0, 0, 0, 0, 0, 0, 0, 0, 0, 0, 0, 0, 0, 0, 0, 0, 0, 0, 0, 0, 0, 0, 0, 0, 0, 0, 0, 0, 0, 0, 0, 0, 0]\n",
            "iBest Fitness: 2.4279718803494164\n",
            "centroid 0  : [0.61, 0.51, 0.52, 0.25]\n",
            "centroid 1  : [0.06, 0.73, 0.16, 0.98]\n",
            "mse : 0.159\n",
            "purity : 0.564\n",
            "dunn : inf\n",
            "Saving the result...\n"
          ],
          "name": "stdout"
        },
        {
          "output_type": "stream",
          "text": [
            "/usr/local/lib/python3.6/dist-packages/ipykernel_launcher.py:33: RuntimeWarning: divide by zero encountered in double_scalars\n"
          ],
          "name": "stderr"
        }
      ]
    },
    {
      "cell_type": "code",
      "metadata": {
        "id": "NXHSFr98AbNA",
        "colab_type": "code",
        "colab": {}
      },
      "source": [
        ""
      ],
      "execution_count": 0,
      "outputs": []
    }
  ]
}